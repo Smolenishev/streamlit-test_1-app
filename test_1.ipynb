{
 "cells": [
  {
   "cell_type": "code",
   "execution_count": 1,
   "metadata": {},
   "outputs": [],
   "source": [
    "import numpy as np\n",
    "import pandas as pd"
   ]
  },
  {
   "cell_type": "code",
   "execution_count": 18,
   "metadata": {},
   "outputs": [
    {
     "name": "stderr",
     "output_type": "stream",
     "text": [
      "C:\\Users\\smole\\AppData\\Local\\Temp\\ipykernel_25256\\1046133581.py:29: FutureWarning: Setting an item of incompatible dtype is deprecated and will raise an error in a future version of pandas. Value '[17.41666667 11.58333333 13.325      ... 10.23333333 15.675\n",
      "  0.71666667]' has dtype incompatible with int64, please explicitly cast to a compatible dtype first.\n",
      "  df.loc[df['SK']=='90.01.1', 'ДС'] = df['ST'] /1.2\n",
      "C:\\Users\\smole\\AppData\\Local\\Temp\\ipykernel_25256\\1046133581.py:33: FutureWarning: Setting an item of incompatible dtype is deprecated and will raise an error in a future version of pandas. Value '[17.41666667 11.58333333 13.325      ... 10.23333333 15.675\n",
      "  0.71666667]' has dtype incompatible with int64, please explicitly cast to a compatible dtype first.\n",
      "  df.loc[df['SK']=='90.01.1', 'Продажи'] = df['ST'] /1.2\n",
      "C:\\Users\\smole\\AppData\\Local\\Temp\\ipykernel_25256\\1046133581.py:36: FutureWarning: Setting an item of incompatible dtype is deprecated and will raise an error in a future version of pandas. Value '[-14.27  -7.52  -9.53 ...  -5.85  -9.77    nan]' has dtype incompatible with int64, please explicitly cast to a compatible dtype first.\n",
      "  df.loc[df['SD']=='90.02.1', 'Себестоимость'] = df['ST']*-1\n"
     ]
    }
   ],
   "source": [
    "df = pd.read_excel('base1.xlsx', sheet_name='base')\n",
    "\n",
    "\n",
    "df.rename(columns={'Дата': 'DATA', 'Счет Дт': 'SD', 'Субконто1 Дт': 'SKD1', 'Субконто2 Дт': 'SKD2', 'Субконто3 Дт': 'SKD3', 'Счет Кт': 'SK', \n",
    "        'Субконто1 Кт': 'SKK1', 'Субконто2 Кт': 'SKK2', 'Субконто3 Кт': 'SKK3', 'Сумма': 'SUMMA'}, inplace=True)\n",
    "\n",
    "df = df[(df['SK']=='90.01.1') | (df['SD']=='90.02.1')]\n",
    "\n",
    "df['ST'] = (df['SUMMA']/1000).round(2)\n",
    "df['DATA'] = pd.to_datetime(df['DATA'], dayfirst=True)\n",
    "df['Год']=pd.DatetimeIndex(df['DATA']).year.astype('object')\n",
    "df['Месяц'] = pd.DatetimeIndex(df['DATA']).month.astype('object')\n",
    "df['День'] = pd.DatetimeIndex(df['DATA']).day.astype('object')\n",
    "df['Квартал'] = pd.DatetimeIndex(df['DATA']).quarter.astype('object')\n",
    "df['YM'] = df['DATA'].dt.to_period('M')\n",
    "\n",
    "df = df[df['Год']>=2021]\n",
    "\n",
    "df['Статья'] = ''\n",
    "df.loc[df['SK']=='90.01.1', 'Статья'] = 'Продажи'\n",
    "df.loc[df['SD']=='90.02.1', 'Статья'] = 'Себестоимость'\n",
    "\n",
    "df['Номенклатура'] = ''\n",
    "df.loc[df['SK']=='90.01.1', 'Номенклатура'] = df['SKK3']\n",
    "df.loc[((df['SD']=='90.02.1') & (df['SK']=='41.01')), 'Номенклатура'] = df['SKK1']\n",
    "df.loc[((df['SD']=='90.02.1') & (df['SK']=='45.01')), 'Номенклатура'] = df['SKK2']\n",
    "\n",
    "df['ДС'] = 0\n",
    "df.loc[df['SK']=='90.01.1', 'ДС'] = df['ST'] /1.2\n",
    "df.loc[df['SD']=='90.02.1', 'ДС'] = df['ST']*-1\n",
    "\n",
    "df['Продажи'] = 0\n",
    "df.loc[df['SK']=='90.01.1', 'Продажи'] = df['ST'] /1.2\n",
    "\n",
    "df['Себестоимость'] = 0\n",
    "df.loc[df['SD']=='90.02.1', 'Себестоимость'] = df['ST']*-1\n",
    "\n",
    "# по годам\n",
    "pt00 = pd.pivot_table(df, index=['Статья'], values=['ДС'], columns=['Год'], aggfunc='sum', fill_value='', margins=False).round(2)\n",
    "pt00 = pt00['ДС']\n",
    "pt00 = pt00.transpose()\n",
    "pt00['Марж.прибыль'] = pt00['Продажи'] + pt00['Себестоимость']\n",
    "pt00['Маржа_пр'] = (pt00['Марж.прибыль']/pt00['Продажи']*100).round(1)\n",
    "# вот так исправляю формат числа:\n",
    "# pt00 = pt00.style.format(precision=1, thousands=\" \", decimal=\",\")\n"
   ]
  },
  {
   "cell_type": "code",
   "execution_count": 19,
   "metadata": {},
   "outputs": [
    {
     "data": {
      "text/html": [
       "<div>\n",
       "<style scoped>\n",
       "    .dataframe tbody tr th:only-of-type {\n",
       "        vertical-align: middle;\n",
       "    }\n",
       "\n",
       "    .dataframe tbody tr th {\n",
       "        vertical-align: top;\n",
       "    }\n",
       "\n",
       "    .dataframe thead th {\n",
       "        text-align: right;\n",
       "    }\n",
       "</style>\n",
       "<table border=\"1\" class=\"dataframe\">\n",
       "  <thead>\n",
       "    <tr style=\"text-align: right;\">\n",
       "      <th>Статья</th>\n",
       "      <th>Продажи</th>\n",
       "      <th>Себестоимость</th>\n",
       "      <th>Марж.прибыль</th>\n",
       "      <th>Маржа_пр</th>\n",
       "    </tr>\n",
       "    <tr>\n",
       "      <th>Год</th>\n",
       "      <th></th>\n",
       "      <th></th>\n",
       "      <th></th>\n",
       "      <th></th>\n",
       "    </tr>\n",
       "  </thead>\n",
       "  <tbody>\n",
       "    <tr>\n",
       "      <th>2021</th>\n",
       "      <td>180581.85</td>\n",
       "      <td>-129351.87</td>\n",
       "      <td>51229.98</td>\n",
       "      <td>28.4</td>\n",
       "    </tr>\n",
       "    <tr>\n",
       "      <th>2022</th>\n",
       "      <td>138935.67</td>\n",
       "      <td>-82114.50</td>\n",
       "      <td>56821.17</td>\n",
       "      <td>40.9</td>\n",
       "    </tr>\n",
       "    <tr>\n",
       "      <th>2023</th>\n",
       "      <td>91520.93</td>\n",
       "      <td>-52118.22</td>\n",
       "      <td>39402.71</td>\n",
       "      <td>43.1</td>\n",
       "    </tr>\n",
       "  </tbody>\n",
       "</table>\n",
       "</div>"
      ],
      "text/plain": [
       "Статья    Продажи  Себестоимость  Марж.прибыль  Маржа_пр\n",
       "Год                                                     \n",
       "2021    180581.85     -129351.87      51229.98      28.4\n",
       "2022    138935.67      -82114.50      56821.17      40.9\n",
       "2023     91520.93      -52118.22      39402.71      43.1"
      ]
     },
     "execution_count": 19,
     "metadata": {},
     "output_type": "execute_result"
    }
   ],
   "source": [
    "pt00"
   ]
  },
  {
   "cell_type": "code",
   "execution_count": null,
   "metadata": {},
   "outputs": [],
   "source": [
    "pt01 = pt00.style.format(precision=1, thousands=\" \", decimal=\",\")"
   ]
  },
  {
   "cell_type": "code",
   "execution_count": null,
   "metadata": {},
   "outputs": [
    {
     "data": {
      "text/html": [
       "<style type=\"text/css\">\n",
       "</style>\n",
       "<table id=\"T_50301\">\n",
       "  <thead>\n",
       "    <tr>\n",
       "      <th class=\"index_name level0\" >Статья</th>\n",
       "      <th id=\"T_50301_level0_col0\" class=\"col_heading level0 col0\" >Продажи</th>\n",
       "      <th id=\"T_50301_level0_col1\" class=\"col_heading level0 col1\" >Себестоимость</th>\n",
       "      <th id=\"T_50301_level0_col2\" class=\"col_heading level0 col2\" >Марж.прибыль</th>\n",
       "    </tr>\n",
       "    <tr>\n",
       "      <th class=\"index_name level0\" >Год</th>\n",
       "      <th class=\"blank col0\" >&nbsp;</th>\n",
       "      <th class=\"blank col1\" >&nbsp;</th>\n",
       "      <th class=\"blank col2\" >&nbsp;</th>\n",
       "    </tr>\n",
       "  </thead>\n",
       "  <tbody>\n",
       "    <tr>\n",
       "      <th id=\"T_50301_level0_row0\" class=\"row_heading level0 row0\" >2021</th>\n",
       "      <td id=\"T_50301_row0_col0\" class=\"data row0 col0\" >180 581,9</td>\n",
       "      <td id=\"T_50301_row0_col1\" class=\"data row0 col1\" >-129 351,9</td>\n",
       "      <td id=\"T_50301_row0_col2\" class=\"data row0 col2\" >51 230,0</td>\n",
       "    </tr>\n",
       "    <tr>\n",
       "      <th id=\"T_50301_level0_row1\" class=\"row_heading level0 row1\" >2022</th>\n",
       "      <td id=\"T_50301_row1_col0\" class=\"data row1 col0\" >138 935,7</td>\n",
       "      <td id=\"T_50301_row1_col1\" class=\"data row1 col1\" >-82 114,5</td>\n",
       "      <td id=\"T_50301_row1_col2\" class=\"data row1 col2\" >56 821,2</td>\n",
       "    </tr>\n",
       "    <tr>\n",
       "      <th id=\"T_50301_level0_row2\" class=\"row_heading level0 row2\" >2023</th>\n",
       "      <td id=\"T_50301_row2_col0\" class=\"data row2 col0\" >91 520,9</td>\n",
       "      <td id=\"T_50301_row2_col1\" class=\"data row2 col1\" >-52 118,2</td>\n",
       "      <td id=\"T_50301_row2_col2\" class=\"data row2 col2\" >39 402,7</td>\n",
       "    </tr>\n",
       "  </tbody>\n",
       "</table>\n"
      ],
      "text/plain": [
       "<pandas.io.formats.style.Styler at 0x1d80a5f9a90>"
      ]
     },
     "execution_count": 13,
     "metadata": {},
     "output_type": "execute_result"
    }
   ],
   "source": [
    "pt01"
   ]
  },
  {
   "cell_type": "code",
   "execution_count": null,
   "metadata": {},
   "outputs": [],
   "source": []
  }
 ],
 "metadata": {
  "kernelspec": {
   "display_name": "Python 3",
   "language": "python",
   "name": "python3"
  },
  "language_info": {
   "codemirror_mode": {
    "name": "ipython",
    "version": 3
   },
   "file_extension": ".py",
   "mimetype": "text/x-python",
   "name": "python",
   "nbconvert_exporter": "python",
   "pygments_lexer": "ipython3",
   "version": "3.13.0"
  }
 },
 "nbformat": 4,
 "nbformat_minor": 2
}
