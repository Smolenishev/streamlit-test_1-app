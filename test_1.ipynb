{
 "cells": [
  {
   "cell_type": "code",
   "execution_count": 1,
   "metadata": {},
   "outputs": [],
   "source": [
    "# 2024-12-01 тест скриптов"
   ]
  },
  {
   "cell_type": "code",
   "execution_count": 2,
   "metadata": {},
   "outputs": [],
   "source": [
    "import numpy as np\n",
    "import pandas as pd\n",
    "\n",
    "import plotly.express as px"
   ]
  },
  {
   "cell_type": "code",
   "execution_count": 3,
   "metadata": {},
   "outputs": [],
   "source": [
    "df = pd.read_excel('base1.xlsx', sheet_name='base')"
   ]
  },
  {
   "cell_type": "code",
   "execution_count": 4,
   "metadata": {},
   "outputs": [
    {
     "name": "stdout",
     "output_type": "stream",
     "text": [
      "<class 'pandas.core.frame.DataFrame'>\n",
      "Index: 11469 entries, 312 to 25679\n",
      "Data columns (total 44 columns):\n",
      " #   Column             Non-Null Count  Dtype         \n",
      "---  ------             --------------  -----         \n",
      " 0   N                  11469 non-null  int64         \n",
      " 1   DATA               11469 non-null  datetime64[ns]\n",
      " 2   Уточнение периода  0 non-null      float64       \n",
      " 3   Документ           0 non-null      float64       \n",
      " 4   SD                 11469 non-null  object        \n",
      " 5   Кол.               0 non-null      object        \n",
      " 6   Количество Дт      0 non-null      float64       \n",
      " 7   Валюта Дт          0 non-null      object        \n",
      " 8   Вал. сумма Дт      0 non-null      float64       \n",
      " 9   Подразделение Дт   0 non-null      float64       \n",
      " 10  SKD1               11335 non-null  object        \n",
      " 11  SKD2               5512 non-null   object        \n",
      " 12  SKD3               5509 non-null   object        \n",
      " 13  SK                 11469 non-null  object        \n",
      " 14  Кол..1             11468 non-null  object        \n",
      " 15  Количество Кт      11120 non-null  float64       \n",
      " 16  Валюта Кт          0 non-null      object        \n",
      " 17  Вал. сумма Кт      0 non-null      float64       \n",
      " 18  Подразделение Кт   0 non-null      float64       \n",
      " 19  SKK1               11351 non-null  object        \n",
      " 20  SKK2               10752 non-null  object        \n",
      " 21  SKK3               5553 non-null   object        \n",
      " 22  SUMMA              10645 non-null  float64       \n",
      " 23  Содержание         11469 non-null  object        \n",
      " 24  НУ                 11469 non-null  object        \n",
      " 25  ПР                 11469 non-null  object        \n",
      " 26  ВР                 11469 non-null  object        \n",
      " 27  Сумма НУ Дт        10627 non-null  float64       \n",
      " 28  Сумма ПР Дт        0 non-null      float64       \n",
      " 29  Сумма ВР Дт        0 non-null      float64       \n",
      " 30  Сумма НУ Кт        10627 non-null  float64       \n",
      " 31  Сумма ПР Кт        0 non-null      float64       \n",
      " 32  Сумма ВР Кт        0 non-null      float64       \n",
      " 33  ST                 10645 non-null  float64       \n",
      " 34  Год                11469 non-null  object        \n",
      " 35  Месяц              11469 non-null  object        \n",
      " 36  День               11469 non-null  object        \n",
      " 37  Квартал            11469 non-null  object        \n",
      " 38  YM                 11469 non-null  period[M]     \n",
      " 39  Статья             11469 non-null  object        \n",
      " 40  Номенклатура       11468 non-null  object        \n",
      " 41  ДС                 10645 non-null  float64       \n",
      " 42  Продажи            11469 non-null  float64       \n",
      " 43  Себестоимость      10645 non-null  float64       \n",
      "dtypes: datetime64[ns](1), float64(19), int64(1), object(22), period[M](1)\n",
      "memory usage: 4.2+ MB\n"
     ]
    },
    {
     "name": "stderr",
     "output_type": "stream",
     "text": [
      "C:\\Users\\smole\\AppData\\Local\\Temp\\ipykernel_27800\\3866304133.py:26: FutureWarning: Setting an item of incompatible dtype is deprecated and will raise an error in a future version of pandas. Value '[ 17.41666667  11.58333333  13.325      ... -32.25       -19.83333333\n",
      "  49.625     ]' has dtype incompatible with int64, please explicitly cast to a compatible dtype first.\n",
      "  df.loc[df['SK']=='90.01.1', 'ДС'] = df['ST'] /1.2\n",
      "C:\\Users\\smole\\AppData\\Local\\Temp\\ipykernel_27800\\3866304133.py:30: FutureWarning: Setting an item of incompatible dtype is deprecated and will raise an error in a future version of pandas. Value '[ 17.41666667  11.58333333  13.325      ... -32.25       -19.83333333\n",
      "  49.625     ]' has dtype incompatible with int64, please explicitly cast to a compatible dtype first.\n",
      "  df.loc[df['SK']=='90.01.1', 'Продажи'] = df['ST'] /1.2\n",
      "C:\\Users\\smole\\AppData\\Local\\Temp\\ipykernel_27800\\3866304133.py:33: FutureWarning: Setting an item of incompatible dtype is deprecated and will raise an error in a future version of pandas. Value '[-14.27  -7.52  -9.53 ...  -0.     5.25   0.  ]' has dtype incompatible with int64, please explicitly cast to a compatible dtype first.\n",
      "  df.loc[df['SD']=='90.02.1', 'Себестоимость'] = df['ST']*-1\n"
     ]
    }
   ],
   "source": [
    "df.rename(columns={'Дата': 'DATA', 'Счет Дт': 'SD', 'Субконто1 Дт': 'SKD1', 'Субконто2 Дт': 'SKD2', 'Субконто3 Дт': 'SKD3', 'Счет Кт': 'SK', \n",
    "        'Субконто1 Кт': 'SKK1', 'Субконто2 Кт': 'SKK2', 'Субконто3 Кт': 'SKK3', 'Сумма': 'SUMMA'}, inplace=True)\n",
    "\n",
    "df = df[(df['SK']=='90.01.1') | (df['SD']=='90.02.1')]\n",
    "\n",
    "df['ST'] = (df['SUMMA']/1000).round(2)\n",
    "df['DATA'] = pd.to_datetime(df['DATA'], dayfirst=True)\n",
    "df['Год']=pd.DatetimeIndex(df['DATA']).year.astype('object')\n",
    "df['Месяц'] = pd.DatetimeIndex(df['DATA']).month.astype('object')\n",
    "df['День'] = pd.DatetimeIndex(df['DATA']).day.astype('object')\n",
    "df['Квартал'] = pd.DatetimeIndex(df['DATA']).quarter.astype('object')\n",
    "df['YM'] = df['DATA'].dt.to_period('M')\n",
    "\n",
    "df = df[df['Год']>=2021]\n",
    "\n",
    "df['Статья'] = ''\n",
    "df.loc[df['SK']=='90.01.1', 'Статья'] = 'Продажи'\n",
    "df.loc[df['SD']=='90.02.1', 'Статья'] = 'Себестоимость'\n",
    "\n",
    "df['Номенклатура'] = ''\n",
    "df.loc[df['SK']=='90.01.1', 'Номенклатура'] = df['SKK3']\n",
    "df.loc[((df['SD']=='90.02.1') & (df['SK']=='41.01')), 'Номенклатура'] = df['SKK1']\n",
    "df.loc[((df['SD']=='90.02.1') & (df['SK']=='45.01')), 'Номенклатура'] = df['SKK2']\n",
    "\n",
    "df['ДС'] = 0\n",
    "df.loc[df['SK']=='90.01.1', 'ДС'] = df['ST'] /1.2\n",
    "df.loc[df['SD']=='90.02.1', 'ДС'] = df['ST']*-1\n",
    "\n",
    "df['Продажи'] = 0\n",
    "df.loc[df['SK']=='90.01.1', 'Продажи'] = df['ST'] /1.2\n",
    "\n",
    "df['Себестоимость'] = 0\n",
    "df.loc[df['SD']=='90.02.1', 'Себестоимость'] = df['ST']*-1\n",
    "\n",
    "df.info()"
   ]
  },
  {
   "cell_type": "code",
   "execution_count": 5,
   "metadata": {},
   "outputs": [
    {
     "data": {
      "text/plain": [
       "array([nan, 'Телефон модель 920', 'Телефон модель 289',\n",
       "       'Телефон модель 820', 'Телефон модель 610', 'Телефон модель 220',\n",
       "       'Телефон модель 615', 'Телефон модель 715', 'Телефон модель 1',\n",
       "       'Телефон модель 320', 'товар прочий', 'Телефон модель А199',\n",
       "       'Телефон модель 420', 'Телефон модель 425', 'Телефон модель 389',\n",
       "       'Телефон модель 720', 'Телефон модель 390', 'Гаджет 820',\n",
       "       'Гаджет 420', 'Гаджет 920', 'Телефон модель 925',\n",
       "       'Телефон модель А 925', 'Телефон модель 490', 'Гаджет 425',\n",
       "       'Прочие', 'Маркетинговые услуги.', 'Гаджет 289',\n",
       "       'Поступление (акт, накладная, УПД) 0000-000786 от 30.11.2022 0:00:00',\n",
       "       'Гаджет 199'], dtype=object)"
      ]
     },
     "execution_count": 5,
     "metadata": {},
     "output_type": "execute_result"
    }
   ],
   "source": [
    "df['SKK3'].unique()"
   ]
  },
  {
   "cell_type": "code",
   "execution_count": 6,
   "metadata": {},
   "outputs": [
    {
     "data": {
      "text/html": [
       "<div>\n",
       "<style scoped>\n",
       "    .dataframe tbody tr th:only-of-type {\n",
       "        vertical-align: middle;\n",
       "    }\n",
       "\n",
       "    .dataframe tbody tr th {\n",
       "        vertical-align: top;\n",
       "    }\n",
       "\n",
       "    .dataframe thead th {\n",
       "        text-align: right;\n",
       "    }\n",
       "</style>\n",
       "<table border=\"1\" class=\"dataframe\">\n",
       "  <thead>\n",
       "    <tr style=\"text-align: right;\">\n",
       "      <th></th>\n",
       "      <th>N</th>\n",
       "      <th>DATA</th>\n",
       "      <th>Уточнение периода</th>\n",
       "      <th>Документ</th>\n",
       "      <th>SD</th>\n",
       "      <th>Кол.</th>\n",
       "      <th>Количество Дт</th>\n",
       "      <th>Валюта Дт</th>\n",
       "      <th>Вал. сумма Дт</th>\n",
       "      <th>Подразделение Дт</th>\n",
       "      <th>...</th>\n",
       "      <th>Год</th>\n",
       "      <th>Месяц</th>\n",
       "      <th>День</th>\n",
       "      <th>Квартал</th>\n",
       "      <th>YM</th>\n",
       "      <th>Статья</th>\n",
       "      <th>Номенклатура</th>\n",
       "      <th>ДС</th>\n",
       "      <th>Продажи</th>\n",
       "      <th>Себестоимость</th>\n",
       "    </tr>\n",
       "  </thead>\n",
       "  <tbody>\n",
       "    <tr>\n",
       "      <th>3333</th>\n",
       "      <td>4</td>\n",
       "      <td>2021-05-06 12:00:00</td>\n",
       "      <td>NaN</td>\n",
       "      <td>NaN</td>\n",
       "      <td>62.01</td>\n",
       "      <td>NaN</td>\n",
       "      <td>NaN</td>\n",
       "      <td>NaN</td>\n",
       "      <td>NaN</td>\n",
       "      <td>NaN</td>\n",
       "      <td>...</td>\n",
       "      <td>2021</td>\n",
       "      <td>5</td>\n",
       "      <td>6</td>\n",
       "      <td>2</td>\n",
       "      <td>2021-05</td>\n",
       "      <td>Продажи</td>\n",
       "      <td>Телефон модель 420</td>\n",
       "      <td>2270.833333</td>\n",
       "      <td>2270.833333</td>\n",
       "      <td>0.0</td>\n",
       "    </tr>\n",
       "    <tr>\n",
       "      <th>3729</th>\n",
       "      <td>4</td>\n",
       "      <td>2021-05-25 00:00:00</td>\n",
       "      <td>NaN</td>\n",
       "      <td>NaN</td>\n",
       "      <td>62.01</td>\n",
       "      <td>NaN</td>\n",
       "      <td>NaN</td>\n",
       "      <td>NaN</td>\n",
       "      <td>NaN</td>\n",
       "      <td>NaN</td>\n",
       "      <td>...</td>\n",
       "      <td>2021</td>\n",
       "      <td>5</td>\n",
       "      <td>25</td>\n",
       "      <td>2</td>\n",
       "      <td>2021-05</td>\n",
       "      <td>Продажи</td>\n",
       "      <td>Телефон модель 420</td>\n",
       "      <td>6708.408333</td>\n",
       "      <td>6708.408333</td>\n",
       "      <td>0.0</td>\n",
       "    </tr>\n",
       "    <tr>\n",
       "      <th>6974</th>\n",
       "      <td>12</td>\n",
       "      <td>2021-10-22 00:00:00</td>\n",
       "      <td>NaN</td>\n",
       "      <td>NaN</td>\n",
       "      <td>62.01</td>\n",
       "      <td>NaN</td>\n",
       "      <td>NaN</td>\n",
       "      <td>NaN</td>\n",
       "      <td>NaN</td>\n",
       "      <td>NaN</td>\n",
       "      <td>...</td>\n",
       "      <td>2021</td>\n",
       "      <td>10</td>\n",
       "      <td>22</td>\n",
       "      <td>4</td>\n",
       "      <td>2021-10</td>\n",
       "      <td>Продажи</td>\n",
       "      <td>Телефон модель 420</td>\n",
       "      <td>908.333333</td>\n",
       "      <td>908.333333</td>\n",
       "      <td>0.0</td>\n",
       "    </tr>\n",
       "    <tr>\n",
       "      <th>7066</th>\n",
       "      <td>2</td>\n",
       "      <td>2021-10-26 12:00:01</td>\n",
       "      <td>NaN</td>\n",
       "      <td>NaN</td>\n",
       "      <td>62.01</td>\n",
       "      <td>NaN</td>\n",
       "      <td>NaN</td>\n",
       "      <td>NaN</td>\n",
       "      <td>NaN</td>\n",
       "      <td>NaN</td>\n",
       "      <td>...</td>\n",
       "      <td>2021</td>\n",
       "      <td>10</td>\n",
       "      <td>26</td>\n",
       "      <td>4</td>\n",
       "      <td>2021-10</td>\n",
       "      <td>Продажи</td>\n",
       "      <td>Телефон модель 420</td>\n",
       "      <td>1362.500000</td>\n",
       "      <td>1362.500000</td>\n",
       "      <td>0.0</td>\n",
       "    </tr>\n",
       "    <tr>\n",
       "      <th>7279</th>\n",
       "      <td>31</td>\n",
       "      <td>2021-10-31 20:00:00</td>\n",
       "      <td>NaN</td>\n",
       "      <td>NaN</td>\n",
       "      <td>62.01</td>\n",
       "      <td>NaN</td>\n",
       "      <td>NaN</td>\n",
       "      <td>NaN</td>\n",
       "      <td>NaN</td>\n",
       "      <td>NaN</td>\n",
       "      <td>...</td>\n",
       "      <td>2021</td>\n",
       "      <td>10</td>\n",
       "      <td>31</td>\n",
       "      <td>4</td>\n",
       "      <td>2021-10</td>\n",
       "      <td>Продажи</td>\n",
       "      <td>Телефон модель 420</td>\n",
       "      <td>52.816667</td>\n",
       "      <td>52.816667</td>\n",
       "      <td>0.0</td>\n",
       "    </tr>\n",
       "  </tbody>\n",
       "</table>\n",
       "<p>5 rows × 44 columns</p>\n",
       "</div>"
      ],
      "text/plain": [
       "       N                DATA  Уточнение периода  Документ     SD Кол.  \\\n",
       "3333   4 2021-05-06 12:00:00                NaN       NaN  62.01  NaN   \n",
       "3729   4 2021-05-25 00:00:00                NaN       NaN  62.01  NaN   \n",
       "6974  12 2021-10-22 00:00:00                NaN       NaN  62.01  NaN   \n",
       "7066   2 2021-10-26 12:00:01                NaN       NaN  62.01  NaN   \n",
       "7279  31 2021-10-31 20:00:00                NaN       NaN  62.01  NaN   \n",
       "\n",
       "      Количество Дт Валюта Дт  Вал. сумма Дт  Подразделение Дт  ...   Год  \\\n",
       "3333            NaN       NaN            NaN               NaN  ...  2021   \n",
       "3729            NaN       NaN            NaN               NaN  ...  2021   \n",
       "6974            NaN       NaN            NaN               NaN  ...  2021   \n",
       "7066            NaN       NaN            NaN               NaN  ...  2021   \n",
       "7279            NaN       NaN            NaN               NaN  ...  2021   \n",
       "\n",
       "     Месяц День Квартал       YM   Статья        Номенклатура           ДС  \\\n",
       "3333     5    6       2  2021-05  Продажи  Телефон модель 420  2270.833333   \n",
       "3729     5   25       2  2021-05  Продажи  Телефон модель 420  6708.408333   \n",
       "6974    10   22       4  2021-10  Продажи  Телефон модель 420   908.333333   \n",
       "7066    10   26       4  2021-10  Продажи  Телефон модель 420  1362.500000   \n",
       "7279    10   31       4  2021-10  Продажи  Телефон модель 420    52.816667   \n",
       "\n",
       "          Продажи Себестоимость  \n",
       "3333  2270.833333           0.0  \n",
       "3729  6708.408333           0.0  \n",
       "6974   908.333333           0.0  \n",
       "7066  1362.500000           0.0  \n",
       "7279    52.816667           0.0  \n",
       "\n",
       "[5 rows x 44 columns]"
      ]
     },
     "execution_count": 6,
     "metadata": {},
     "output_type": "execute_result"
    }
   ],
   "source": [
    "df_1 = df[df['SKK3']=='Телефон модель 420']\n",
    "\n",
    "df_1.head(5)"
   ]
  },
  {
   "cell_type": "code",
   "execution_count": 11,
   "metadata": {},
   "outputs": [
    {
     "data": {
      "text/plain": [
       "pandas.core.indexes.base.Index"
      ]
     },
     "execution_count": 11,
     "metadata": {},
     "output_type": "execute_result"
    }
   ],
   "source": [
    "# df_1.columns\n",
    "\n",
    "type(df_1.columns)"
   ]
  },
  {
   "cell_type": "code",
   "execution_count": 14,
   "metadata": {},
   "outputs": [
    {
     "data": {
      "text/plain": [
       "pandas.core.series.Series"
      ]
     },
     "execution_count": 14,
     "metadata": {},
     "output_type": "execute_result"
    }
   ],
   "source": [
    "# df_1['Продажи']\n",
    "\n",
    "type(df_1['Продажи'])"
   ]
  },
  {
   "cell_type": "code",
   "execution_count": 15,
   "metadata": {},
   "outputs": [
    {
     "data": {
      "text/html": [
       "<div>\n",
       "<style scoped>\n",
       "    .dataframe tbody tr th:only-of-type {\n",
       "        vertical-align: middle;\n",
       "    }\n",
       "\n",
       "    .dataframe tbody tr th {\n",
       "        vertical-align: top;\n",
       "    }\n",
       "\n",
       "    .dataframe thead th {\n",
       "        text-align: right;\n",
       "    }\n",
       "</style>\n",
       "<table border=\"1\" class=\"dataframe\">\n",
       "  <thead>\n",
       "    <tr style=\"text-align: right;\">\n",
       "      <th></th>\n",
       "      <th>Продажи</th>\n",
       "    </tr>\n",
       "    <tr>\n",
       "      <th>YM</th>\n",
       "      <th></th>\n",
       "    </tr>\n",
       "  </thead>\n",
       "  <tbody>\n",
       "    <tr>\n",
       "      <th>2021-05</th>\n",
       "      <td>4489.620833</td>\n",
       "    </tr>\n",
       "    <tr>\n",
       "      <th>2021-10</th>\n",
       "      <td>588.729167</td>\n",
       "    </tr>\n",
       "    <tr>\n",
       "      <th>2021-11</th>\n",
       "      <td>351.574359</td>\n",
       "    </tr>\n",
       "    <tr>\n",
       "      <th>2021-12</th>\n",
       "      <td>126.861782</td>\n",
       "    </tr>\n",
       "    <tr>\n",
       "      <th>2022-01</th>\n",
       "      <td>54.808780</td>\n",
       "    </tr>\n",
       "    <tr>\n",
       "      <th>2022-02</th>\n",
       "      <td>44.852244</td>\n",
       "    </tr>\n",
       "    <tr>\n",
       "      <th>2022-03</th>\n",
       "      <td>41.073387</td>\n",
       "    </tr>\n",
       "    <tr>\n",
       "      <th>2022-04</th>\n",
       "      <td>53.952576</td>\n",
       "    </tr>\n",
       "    <tr>\n",
       "      <th>2022-05</th>\n",
       "      <td>38.957333</td>\n",
       "    </tr>\n",
       "    <tr>\n",
       "      <th>2022-06</th>\n",
       "      <td>19.862262</td>\n",
       "    </tr>\n",
       "    <tr>\n",
       "      <th>2022-07</th>\n",
       "      <td>20.727548</td>\n",
       "    </tr>\n",
       "    <tr>\n",
       "      <th>2022-08</th>\n",
       "      <td>19.184488</td>\n",
       "    </tr>\n",
       "    <tr>\n",
       "      <th>2022-09</th>\n",
       "      <td>20.258586</td>\n",
       "    </tr>\n",
       "    <tr>\n",
       "      <th>2022-10</th>\n",
       "      <td>20.202208</td>\n",
       "    </tr>\n",
       "    <tr>\n",
       "      <th>2022-11</th>\n",
       "      <td>12.038379</td>\n",
       "    </tr>\n",
       "    <tr>\n",
       "      <th>2022-12</th>\n",
       "      <td>12.508265</td>\n",
       "    </tr>\n",
       "  </tbody>\n",
       "</table>\n",
       "</div>"
      ],
      "text/plain": [
       "             Продажи\n",
       "YM                  \n",
       "2021-05  4489.620833\n",
       "2021-10   588.729167\n",
       "2021-11   351.574359\n",
       "2021-12   126.861782\n",
       "2022-01    54.808780\n",
       "2022-02    44.852244\n",
       "2022-03    41.073387\n",
       "2022-04    53.952576\n",
       "2022-05    38.957333\n",
       "2022-06    19.862262\n",
       "2022-07    20.727548\n",
       "2022-08    19.184488\n",
       "2022-09    20.258586\n",
       "2022-10    20.202208\n",
       "2022-11    12.038379\n",
       "2022-12    12.508265"
      ]
     },
     "execution_count": 15,
     "metadata": {},
     "output_type": "execute_result"
    }
   ],
   "source": [
    "pt_1 = pd.pivot_table(df_1, index='YM', values='Продажи')\n",
    "\n",
    "pt_1"
   ]
  },
  {
   "cell_type": "code",
   "execution_count": 18,
   "metadata": {},
   "outputs": [
    {
     "data": {
      "text/plain": [
       "<Axes: xlabel='YM'>"
      ]
     },
     "execution_count": 18,
     "metadata": {},
     "output_type": "execute_result"
    },
    {
     "data": {
      "image/png": "[encoded data removed]",
      "text/plain": [
       "<Figure size 640x480 with 1 Axes>"
      ]
     },
     "metadata": {},
     "output_type": "display_data"
    }
   ],
   "source": [
    "pt_1.plot(kind='bar')"
   ]
  },
  {
   "cell_type": "code",
   "execution_count": null,
   "metadata": {},
   "outputs": [],
   "source": []
  },
  {
   "cell_type": "code",
   "execution_count": 63,
   "metadata": {},
   "outputs": [],
   "source": [
    "# по годам\n",
    "pt00 = pd.pivot_table(df, index=['Статья'], values=['ДС'], columns=['Год'], aggfunc='sum', fill_value='', margins=False).round(2)\n",
    "pt00 = pt00['ДС']\n",
    "pt00 = pt00.transpose()\n",
    "pt00['Марж.прибыль'] = pt00['Продажи'] + pt00['Себестоимость']\n",
    "pt00['Маржа_пр'] = (pt00['Марж.прибыль']/pt00['Продажи']*100).round(1)\n",
    "pt00['Маржа_%'] = ((pt00['Марж.прибыль'] / pt00['Продажи'])*100).round(1)\n",
    "# вот так исправляю формат числа:\n",
    "# pt00 = pt00.style.format(precision=1, thousands=\" \", decimal=\",\")\n"
   ]
  },
  {
   "cell_type": "code",
   "execution_count": 64,
   "metadata": {},
   "outputs": [
    {
     "data": {
      "text/html": [
       "<div>\n",
       "<style scoped>\n",
       "    .dataframe tbody tr th:only-of-type {\n",
       "        vertical-align: middle;\n",
       "    }\n",
       "\n",
       "    .dataframe tbody tr th {\n",
       "        vertical-align: top;\n",
       "    }\n",
       "\n",
       "    .dataframe thead th {\n",
       "        text-align: right;\n",
       "    }\n",
       "</style>\n",
       "<table border=\"1\" class=\"dataframe\">\n",
       "  <thead>\n",
       "    <tr style=\"text-align: right;\">\n",
       "      <th>Статья</th>\n",
       "      <th>Продажи</th>\n",
       "      <th>Себестоимость</th>\n",
       "      <th>Марж.прибыль</th>\n",
       "      <th>Маржа_пр</th>\n",
       "      <th>Маржа_%</th>\n",
       "    </tr>\n",
       "    <tr>\n",
       "      <th>Год</th>\n",
       "      <th></th>\n",
       "      <th></th>\n",
       "      <th></th>\n",
       "      <th></th>\n",
       "      <th></th>\n",
       "    </tr>\n",
       "  </thead>\n",
       "  <tbody>\n",
       "    <tr>\n",
       "      <th>2021</th>\n",
       "      <td>180581.85</td>\n",
       "      <td>-129351.87</td>\n",
       "      <td>51229.98</td>\n",
       "      <td>28.4</td>\n",
       "      <td>28.4</td>\n",
       "    </tr>\n",
       "    <tr>\n",
       "      <th>2022</th>\n",
       "      <td>138935.67</td>\n",
       "      <td>-82114.50</td>\n",
       "      <td>56821.17</td>\n",
       "      <td>40.9</td>\n",
       "      <td>40.9</td>\n",
       "    </tr>\n",
       "  </tbody>\n",
       "</table>\n",
       "</div>"
      ],
      "text/plain": [
       "Статья    Продажи  Себестоимость  Марж.прибыль  Маржа_пр  Маржа_%\n",
       "Год                                                              \n",
       "2021    180581.85     -129351.87      51229.98      28.4     28.4\n",
       "2022    138935.67      -82114.50      56821.17      40.9     40.9"
      ]
     },
     "execution_count": 64,
     "metadata": {},
     "output_type": "execute_result"
    }
   ],
   "source": [
    "pt00"
   ]
  },
  {
   "cell_type": "code",
   "execution_count": 55,
   "metadata": {},
   "outputs": [
    {
     "data": {
      "text/html": [
       "<div>\n",
       "<style scoped>\n",
       "    .dataframe tbody tr th:only-of-type {\n",
       "        vertical-align: middle;\n",
       "    }\n",
       "\n",
       "    .dataframe tbody tr th {\n",
       "        vertical-align: top;\n",
       "    }\n",
       "\n",
       "    .dataframe thead th {\n",
       "        text-align: right;\n",
       "    }\n",
       "</style>\n",
       "<table border=\"1\" class=\"dataframe\">\n",
       "  <thead>\n",
       "    <tr style=\"text-align: right;\">\n",
       "      <th>Статья</th>\n",
       "      <th>Продажи</th>\n",
       "      <th>Марж.прибыль</th>\n",
       "    </tr>\n",
       "    <tr>\n",
       "      <th>Год</th>\n",
       "      <th></th>\n",
       "      <th></th>\n",
       "    </tr>\n",
       "  </thead>\n",
       "  <tbody>\n",
       "    <tr>\n",
       "      <th>2021</th>\n",
       "      <td>180581.85</td>\n",
       "      <td>51229.98</td>\n",
       "    </tr>\n",
       "    <tr>\n",
       "      <th>2022</th>\n",
       "      <td>138935.67</td>\n",
       "      <td>56821.17</td>\n",
       "    </tr>\n",
       "  </tbody>\n",
       "</table>\n",
       "</div>"
      ],
      "text/plain": [
       "Статья    Продажи  Марж.прибыль\n",
       "Год                            \n",
       "2021    180581.85      51229.98\n",
       "2022    138935.67      56821.17"
      ]
     },
     "execution_count": 55,
     "metadata": {},
     "output_type": "execute_result"
    }
   ],
   "source": [
    "pt001 = pt00[['Продажи', 'Марж.прибыль']]\n",
    "\n",
    "pt001"
   ]
  },
  {
   "cell_type": "code",
   "execution_count": 62,
   "metadata": {},
   "outputs": [
    {
     "data": {
      "text/html": [
       "<div>\n",
       "<style scoped>\n",
       "    .dataframe tbody tr th:only-of-type {\n",
       "        vertical-align: middle;\n",
       "    }\n",
       "\n",
       "    .dataframe tbody tr th {\n",
       "        vertical-align: top;\n",
       "    }\n",
       "\n",
       "    .dataframe thead th {\n",
       "        text-align: right;\n",
       "    }\n",
       "</style>\n",
       "<table border=\"1\" class=\"dataframe\">\n",
       "  <thead>\n",
       "    <tr style=\"text-align: right;\">\n",
       "      <th>Статья</th>\n",
       "      <th>1_Продажи</th>\n",
       "      <th>2_Марж.прибыль</th>\n",
       "    </tr>\n",
       "    <tr>\n",
       "      <th>Год</th>\n",
       "      <th></th>\n",
       "      <th></th>\n",
       "    </tr>\n",
       "  </thead>\n",
       "  <tbody>\n",
       "    <tr>\n",
       "      <th>2021</th>\n",
       "      <td>180581.85</td>\n",
       "      <td>51229.98</td>\n",
       "    </tr>\n",
       "    <tr>\n",
       "      <th>2022</th>\n",
       "      <td>138935.67</td>\n",
       "      <td>56821.17</td>\n",
       "    </tr>\n",
       "  </tbody>\n",
       "</table>\n",
       "</div>"
      ],
      "text/plain": [
       "Статья  1_Продажи  2_Марж.прибыль\n",
       "Год                              \n",
       "2021    180581.85        51229.98\n",
       "2022    138935.67        56821.17"
      ]
     },
     "execution_count": 62,
     "metadata": {},
     "output_type": "execute_result"
    }
   ],
   "source": [
    "pt001.rename({\"Продажи\": \"1_Продажи\", \"Марж.прибыль\": \"2_Марж.прибыль\"}, axis='columns')"
   ]
  },
  {
   "cell_type": "code",
   "execution_count": 12,
   "metadata": {},
   "outputs": [
    {
     "data": {
      "text/plain": [
       "Index([2021, 2022], dtype='int64', name='Год')"
      ]
     },
     "execution_count": 12,
     "metadata": {},
     "output_type": "execute_result"
    }
   ],
   "source": [
    "pt00.index\n"
   ]
  },
  {
   "cell_type": "code",
   "execution_count": 14,
   "metadata": {},
   "outputs": [
    {
     "data": {
      "text/html": [
       "<div>\n",
       "<style scoped>\n",
       "    .dataframe tbody tr th:only-of-type {\n",
       "        vertical-align: middle;\n",
       "    }\n",
       "\n",
       "    .dataframe tbody tr th {\n",
       "        vertical-align: top;\n",
       "    }\n",
       "\n",
       "    .dataframe thead th {\n",
       "        text-align: right;\n",
       "    }\n",
       "</style>\n",
       "<table border=\"1\" class=\"dataframe\">\n",
       "  <thead>\n",
       "    <tr style=\"text-align: right;\">\n",
       "      <th>Статья</th>\n",
       "      <th>Продажи</th>\n",
       "      <th>Себестоимость</th>\n",
       "      <th>Марж.прибыль</th>\n",
       "      <th>Маржа_пр</th>\n",
       "    </tr>\n",
       "    <tr>\n",
       "      <th>Год</th>\n",
       "      <th></th>\n",
       "      <th></th>\n",
       "      <th></th>\n",
       "      <th></th>\n",
       "    </tr>\n",
       "  </thead>\n",
       "  <tbody>\n",
       "    <tr>\n",
       "      <th>2021</th>\n",
       "      <td>180581.85</td>\n",
       "      <td>-129351.87</td>\n",
       "      <td>51229.98</td>\n",
       "      <td>28.4</td>\n",
       "    </tr>\n",
       "    <tr>\n",
       "      <th>2022</th>\n",
       "      <td>138935.67</td>\n",
       "      <td>-82114.50</td>\n",
       "      <td>56821.17</td>\n",
       "      <td>40.9</td>\n",
       "    </tr>\n",
       "  </tbody>\n",
       "</table>\n",
       "</div>"
      ],
      "text/plain": [
       "Статья    Продажи  Себестоимость  Марж.прибыль  Маржа_пр\n",
       "Год                                                     \n",
       "2021    180581.85     -129351.87      51229.98      28.4\n",
       "2022    138935.67      -82114.50      56821.17      40.9"
      ]
     },
     "execution_count": 14,
     "metadata": {},
     "output_type": "execute_result"
    }
   ],
   "source": [
    "pt00.loc[ :, : ]"
   ]
  },
  {
   "cell_type": "code",
   "execution_count": 53,
   "metadata": {},
   "outputs": [
    {
     "data": {
      "text/plain": [
       "np.float64(51229.98000000001)"
      ]
     },
     "execution_count": 53,
     "metadata": {},
     "output_type": "execute_result"
    }
   ],
   "source": [
    "a1 = pt00.iloc[0, 2]\n",
    "a1"
   ]
  },
  {
   "cell_type": "code",
   "execution_count": 54,
   "metadata": {},
   "outputs": [
    {
     "data": {
      "text/plain": [
       "np.float64(56821.17000000001)"
      ]
     },
     "execution_count": 54,
     "metadata": {},
     "output_type": "execute_result"
    }
   ],
   "source": [
    "a2 = pt00.iloc[1, 2]\n",
    "a2"
   ]
  },
  {
   "cell_type": "code",
   "execution_count": 52,
   "metadata": {},
   "outputs": [
    {
     "data": {
      "text/plain": [
       "np.float64(-41646.17999999999)"
      ]
     },
     "execution_count": 52,
     "metadata": {},
     "output_type": "execute_result"
    }
   ],
   "source": [
    "da = a2 - a1\n",
    "da"
   ]
  },
  {
   "cell_type": "code",
   "execution_count": null,
   "metadata": {},
   "outputs": [],
   "source": []
  },
  {
   "cell_type": "code",
   "execution_count": null,
   "metadata": {},
   "outputs": [],
   "source": []
  },
  {
   "cell_type": "code",
   "execution_count": null,
   "metadata": {},
   "outputs": [],
   "source": []
  },
  {
   "cell_type": "code",
   "execution_count": null,
   "metadata": {},
   "outputs": [],
   "source": []
  },
  {
   "cell_type": "code",
   "execution_count": 24,
   "metadata": {},
   "outputs": [
    {
     "data": {
      "text/html": [
       "<div>\n",
       "<style scoped>\n",
       "    .dataframe tbody tr th:only-of-type {\n",
       "        vertical-align: middle;\n",
       "    }\n",
       "\n",
       "    .dataframe tbody tr th {\n",
       "        vertical-align: top;\n",
       "    }\n",
       "\n",
       "    .dataframe thead th {\n",
       "        text-align: right;\n",
       "    }\n",
       "</style>\n",
       "<table border=\"1\" class=\"dataframe\">\n",
       "  <thead>\n",
       "    <tr style=\"text-align: right;\">\n",
       "      <th>Статья</th>\n",
       "      <th>Продажи</th>\n",
       "    </tr>\n",
       "    <tr>\n",
       "      <th>Год</th>\n",
       "      <th></th>\n",
       "    </tr>\n",
       "  </thead>\n",
       "  <tbody>\n",
       "    <tr>\n",
       "      <th>2021</th>\n",
       "      <td>180581.85</td>\n",
       "    </tr>\n",
       "  </tbody>\n",
       "</table>\n",
       "</div>"
      ],
      "text/plain": [
       "Статья    Продажи\n",
       "Год              \n",
       "2021    180581.85"
      ]
     },
     "execution_count": 24,
     "metadata": {},
     "output_type": "execute_result"
    }
   ],
   "source": [
    "pt00.iloc[:1 , :1 ]"
   ]
  },
  {
   "cell_type": "code",
   "execution_count": 29,
   "metadata": {},
   "outputs": [
    {
     "data": {
      "text/html": [
       "<div>\n",
       "<style scoped>\n",
       "    .dataframe tbody tr th:only-of-type {\n",
       "        vertical-align: middle;\n",
       "    }\n",
       "\n",
       "    .dataframe tbody tr th {\n",
       "        vertical-align: top;\n",
       "    }\n",
       "\n",
       "    .dataframe thead th {\n",
       "        text-align: right;\n",
       "    }\n",
       "</style>\n",
       "<table border=\"1\" class=\"dataframe\">\n",
       "  <thead>\n",
       "    <tr style=\"text-align: right;\">\n",
       "      <th>Статья</th>\n",
       "      <th>Продажи</th>\n",
       "    </tr>\n",
       "    <tr>\n",
       "      <th>Год</th>\n",
       "      <th></th>\n",
       "    </tr>\n",
       "  </thead>\n",
       "  <tbody>\n",
       "    <tr>\n",
       "      <th>2022</th>\n",
       "      <td>138935.67</td>\n",
       "    </tr>\n",
       "  </tbody>\n",
       "</table>\n",
       "</div>"
      ],
      "text/plain": [
       "Статья    Продажи\n",
       "Год              \n",
       "2022    138935.67"
      ]
     },
     "execution_count": 29,
     "metadata": {},
     "output_type": "execute_result"
    }
   ],
   "source": [
    "a2 = pt00.iloc[1:2 , :1]\n",
    "\n",
    "a2"
   ]
  },
  {
   "cell_type": "code",
   "execution_count": 30,
   "metadata": {},
   "outputs": [
    {
     "data": {
      "text/plain": [
       "pandas.core.frame.DataFrame"
      ]
     },
     "execution_count": 30,
     "metadata": {},
     "output_type": "execute_result"
    }
   ],
   "source": [
    "type(a2)"
   ]
  },
  {
   "cell_type": "code",
   "execution_count": 28,
   "metadata": {},
   "outputs": [
    {
     "data": {
      "text/html": [
       "<div>\n",
       "<style scoped>\n",
       "    .dataframe tbody tr th:only-of-type {\n",
       "        vertical-align: middle;\n",
       "    }\n",
       "\n",
       "    .dataframe tbody tr th {\n",
       "        vertical-align: top;\n",
       "    }\n",
       "\n",
       "    .dataframe thead th {\n",
       "        text-align: right;\n",
       "    }\n",
       "</style>\n",
       "<table border=\"1\" class=\"dataframe\">\n",
       "  <thead>\n",
       "    <tr style=\"text-align: right;\">\n",
       "      <th>Статья</th>\n",
       "      <th>Продажи</th>\n",
       "    </tr>\n",
       "    <tr>\n",
       "      <th>Год</th>\n",
       "      <th></th>\n",
       "    </tr>\n",
       "  </thead>\n",
       "  <tbody>\n",
       "    <tr>\n",
       "      <th>2021</th>\n",
       "      <td>NaN</td>\n",
       "    </tr>\n",
       "    <tr>\n",
       "      <th>2022</th>\n",
       "      <td>NaN</td>\n",
       "    </tr>\n",
       "  </tbody>\n",
       "</table>\n",
       "</div>"
      ],
      "text/plain": [
       "Статья  Продажи\n",
       "Год            \n",
       "2021        NaN\n",
       "2022        NaN"
      ]
     },
     "execution_count": 28,
     "metadata": {},
     "output_type": "execute_result"
    }
   ],
   "source": [
    "d =  (pt00.iloc[1:2 , :1 ]) - (pt00.iloc[:1 , :1 ])\n",
    "d"
   ]
  },
  {
   "cell_type": "code",
   "execution_count": null,
   "metadata": {},
   "outputs": [],
   "source": []
  },
  {
   "cell_type": "code",
   "execution_count": null,
   "metadata": {},
   "outputs": [],
   "source": []
  },
  {
   "cell_type": "code",
   "execution_count": null,
   "metadata": {},
   "outputs": [],
   "source": []
  },
  {
   "cell_type": "code",
   "execution_count": null,
   "metadata": {},
   "outputs": [],
   "source": []
  },
  {
   "cell_type": "code",
   "execution_count": 7,
   "metadata": {},
   "outputs": [
    {
     "data": {
      "text/plain": [
       "<Axes: xlabel='Год'>"
      ]
     },
     "execution_count": 7,
     "metadata": {},
     "output_type": "execute_result"
    },
    {
     "data": {
      "image/png": "[encoded data removed]",
      "text/plain": [
       "<Figure size 640x480 with 1 Axes>"
      ]
     },
     "metadata": {},
     "output_type": "display_data"
    }
   ],
   "source": [
    "pt00.loc[:, \"Маржа_пр\"].plot()"
   ]
  },
  {
   "cell_type": "code",
   "execution_count": null,
   "metadata": {},
   "outputs": [],
   "source": []
  },
  {
   "cell_type": "code",
   "execution_count": 8,
   "metadata": {},
   "outputs": [],
   "source": [
    "pt01 = pt00.style.format(precision=1, thousands=\" \", decimal=\",\")"
   ]
  },
  {
   "cell_type": "code",
   "execution_count": 9,
   "metadata": {},
   "outputs": [
    {
     "data": {
      "text/html": [
       "<style type=\"text/css\">\n",
       "</style>\n",
       "<table id=\"T_e31e5\">\n",
       "  <thead>\n",
       "    <tr>\n",
       "      <th class=\"index_name level0\" >Статья</th>\n",
       "      <th id=\"T_e31e5_level0_col0\" class=\"col_heading level0 col0\" >Продажи</th>\n",
       "      <th id=\"T_e31e5_level0_col1\" class=\"col_heading level0 col1\" >Себестоимость</th>\n",
       "      <th id=\"T_e31e5_level0_col2\" class=\"col_heading level0 col2\" >Марж.прибыль</th>\n",
       "      <th id=\"T_e31e5_level0_col3\" class=\"col_heading level0 col3\" >Маржа_пр</th>\n",
       "    </tr>\n",
       "    <tr>\n",
       "      <th class=\"index_name level0\" >Год</th>\n",
       "      <th class=\"blank col0\" >&nbsp;</th>\n",
       "      <th class=\"blank col1\" >&nbsp;</th>\n",
       "      <th class=\"blank col2\" >&nbsp;</th>\n",
       "      <th class=\"blank col3\" >&nbsp;</th>\n",
       "    </tr>\n",
       "  </thead>\n",
       "  <tbody>\n",
       "    <tr>\n",
       "      <th id=\"T_e31e5_level0_row0\" class=\"row_heading level0 row0\" >2021</th>\n",
       "      <td id=\"T_e31e5_row0_col0\" class=\"data row0 col0\" >180 581,9</td>\n",
       "      <td id=\"T_e31e5_row0_col1\" class=\"data row0 col1\" >-129 351,9</td>\n",
       "      <td id=\"T_e31e5_row0_col2\" class=\"data row0 col2\" >51 230,0</td>\n",
       "      <td id=\"T_e31e5_row0_col3\" class=\"data row0 col3\" >28,4</td>\n",
       "    </tr>\n",
       "    <tr>\n",
       "      <th id=\"T_e31e5_level0_row1\" class=\"row_heading level0 row1\" >2022</th>\n",
       "      <td id=\"T_e31e5_row1_col0\" class=\"data row1 col0\" >138 935,7</td>\n",
       "      <td id=\"T_e31e5_row1_col1\" class=\"data row1 col1\" >-82 114,5</td>\n",
       "      <td id=\"T_e31e5_row1_col2\" class=\"data row1 col2\" >56 821,2</td>\n",
       "      <td id=\"T_e31e5_row1_col3\" class=\"data row1 col3\" >40,9</td>\n",
       "    </tr>\n",
       "    <tr>\n",
       "      <th id=\"T_e31e5_level0_row2\" class=\"row_heading level0 row2\" >2023</th>\n",
       "      <td id=\"T_e31e5_row2_col0\" class=\"data row2 col0\" >91 520,9</td>\n",
       "      <td id=\"T_e31e5_row2_col1\" class=\"data row2 col1\" >-52 118,2</td>\n",
       "      <td id=\"T_e31e5_row2_col2\" class=\"data row2 col2\" >39 402,7</td>\n",
       "      <td id=\"T_e31e5_row2_col3\" class=\"data row2 col3\" >43,1</td>\n",
       "    </tr>\n",
       "  </tbody>\n",
       "</table>\n"
      ],
      "text/plain": [
       "<pandas.io.formats.style.Styler at 0x1c73ee81550>"
      ]
     },
     "execution_count": 9,
     "metadata": {},
     "output_type": "execute_result"
    }
   ],
   "source": [
    "pt01"
   ]
  },
  {
   "cell_type": "code",
   "execution_count": 10,
   "metadata": {},
   "outputs": [
    {
     "data": {
      "text/html": [
       "<div>\n",
       "<style scoped>\n",
       "    .dataframe tbody tr th:only-of-type {\n",
       "        vertical-align: middle;\n",
       "    }\n",
       "\n",
       "    .dataframe tbody tr th {\n",
       "        vertical-align: top;\n",
       "    }\n",
       "\n",
       "    .dataframe thead th {\n",
       "        text-align: right;\n",
       "    }\n",
       "</style>\n",
       "<table border=\"1\" class=\"dataframe\">\n",
       "  <thead>\n",
       "    <tr style=\"text-align: right;\">\n",
       "      <th></th>\n",
       "      <th>Статья</th>\n",
       "      <th>Продажи</th>\n",
       "      <th>Себестоимость</th>\n",
       "      <th>Марж.прибыль</th>\n",
       "      <th>Маржа_%</th>\n",
       "    </tr>\n",
       "    <tr>\n",
       "      <th>Год</th>\n",
       "      <th>Месяц</th>\n",
       "      <th></th>\n",
       "      <th></th>\n",
       "      <th></th>\n",
       "      <th></th>\n",
       "    </tr>\n",
       "  </thead>\n",
       "  <tbody>\n",
       "    <tr>\n",
       "      <th rowspan=\"12\" valign=\"top\">2021</th>\n",
       "      <th>1</th>\n",
       "      <td>4359.73</td>\n",
       "      <td>-3099.21</td>\n",
       "      <td>1260.52</td>\n",
       "      <td>28.912800</td>\n",
       "    </tr>\n",
       "    <tr>\n",
       "      <th>2</th>\n",
       "      <td>4715.93</td>\n",
       "      <td>-2929.78</td>\n",
       "      <td>1786.15</td>\n",
       "      <td>37.874820</td>\n",
       "    </tr>\n",
       "    <tr>\n",
       "      <th>3</th>\n",
       "      <td>18806.48</td>\n",
       "      <td>-13598.91</td>\n",
       "      <td>5207.57</td>\n",
       "      <td>27.690296</td>\n",
       "    </tr>\n",
       "    <tr>\n",
       "      <th>4</th>\n",
       "      <td>15606.04</td>\n",
       "      <td>-11753.98</td>\n",
       "      <td>3852.06</td>\n",
       "      <td>24.683136</td>\n",
       "    </tr>\n",
       "    <tr>\n",
       "      <th>5</th>\n",
       "      <td>22704.43</td>\n",
       "      <td>-16295.36</td>\n",
       "      <td>6409.07</td>\n",
       "      <td>28.228280</td>\n",
       "    </tr>\n",
       "    <tr>\n",
       "      <th>6</th>\n",
       "      <td>4466.78</td>\n",
       "      <td>-3399.83</td>\n",
       "      <td>1066.95</td>\n",
       "      <td>23.886334</td>\n",
       "    </tr>\n",
       "    <tr>\n",
       "      <th>7</th>\n",
       "      <td>7522.26</td>\n",
       "      <td>-5744.54</td>\n",
       "      <td>1777.72</td>\n",
       "      <td>23.632791</td>\n",
       "    </tr>\n",
       "    <tr>\n",
       "      <th>8</th>\n",
       "      <td>15538.91</td>\n",
       "      <td>-11259.57</td>\n",
       "      <td>4279.34</td>\n",
       "      <td>27.539512</td>\n",
       "    </tr>\n",
       "    <tr>\n",
       "      <th>9</th>\n",
       "      <td>9982.02</td>\n",
       "      <td>-7080.45</td>\n",
       "      <td>2901.57</td>\n",
       "      <td>29.067964</td>\n",
       "    </tr>\n",
       "    <tr>\n",
       "      <th>10</th>\n",
       "      <td>21107.48</td>\n",
       "      <td>-16136.20</td>\n",
       "      <td>4971.28</td>\n",
       "      <td>23.552219</td>\n",
       "    </tr>\n",
       "    <tr>\n",
       "      <th>11</th>\n",
       "      <td>17526.23</td>\n",
       "      <td>-12713.84</td>\n",
       "      <td>4812.39</td>\n",
       "      <td>27.458215</td>\n",
       "    </tr>\n",
       "    <tr>\n",
       "      <th>12</th>\n",
       "      <td>38245.56</td>\n",
       "      <td>-25340.20</td>\n",
       "      <td>12905.36</td>\n",
       "      <td>33.743420</td>\n",
       "    </tr>\n",
       "    <tr>\n",
       "      <th rowspan=\"12\" valign=\"top\">2022</th>\n",
       "      <th>1</th>\n",
       "      <td>6898.70</td>\n",
       "      <td>-4643.99</td>\n",
       "      <td>2254.71</td>\n",
       "      <td>32.683114</td>\n",
       "    </tr>\n",
       "    <tr>\n",
       "      <th>2</th>\n",
       "      <td>9193.99</td>\n",
       "      <td>-6561.85</td>\n",
       "      <td>2632.14</td>\n",
       "      <td>28.628920</td>\n",
       "    </tr>\n",
       "    <tr>\n",
       "      <th>3</th>\n",
       "      <td>12686.58</td>\n",
       "      <td>-8421.97</td>\n",
       "      <td>4264.61</td>\n",
       "      <td>33.615127</td>\n",
       "    </tr>\n",
       "    <tr>\n",
       "      <th>4</th>\n",
       "      <td>20121.88</td>\n",
       "      <td>-11556.45</td>\n",
       "      <td>8565.43</td>\n",
       "      <td>42.567742</td>\n",
       "    </tr>\n",
       "    <tr>\n",
       "      <th>5</th>\n",
       "      <td>14946.99</td>\n",
       "      <td>-7813.73</td>\n",
       "      <td>7133.26</td>\n",
       "      <td>47.723722</td>\n",
       "    </tr>\n",
       "    <tr>\n",
       "      <th>6</th>\n",
       "      <td>8179.76</td>\n",
       "      <td>-4396.19</td>\n",
       "      <td>3783.57</td>\n",
       "      <td>46.255269</td>\n",
       "    </tr>\n",
       "    <tr>\n",
       "      <th>7</th>\n",
       "      <td>9625.70</td>\n",
       "      <td>-5635.81</td>\n",
       "      <td>3989.89</td>\n",
       "      <td>41.450388</td>\n",
       "    </tr>\n",
       "    <tr>\n",
       "      <th>8</th>\n",
       "      <td>7064.48</td>\n",
       "      <td>-3757.42</td>\n",
       "      <td>3307.06</td>\n",
       "      <td>46.812504</td>\n",
       "    </tr>\n",
       "    <tr>\n",
       "      <th>9</th>\n",
       "      <td>8555.83</td>\n",
       "      <td>-4627.66</td>\n",
       "      <td>3928.17</td>\n",
       "      <td>45.912203</td>\n",
       "    </tr>\n",
       "    <tr>\n",
       "      <th>10</th>\n",
       "      <td>19661.79</td>\n",
       "      <td>-13547.31</td>\n",
       "      <td>6114.48</td>\n",
       "      <td>31.098288</td>\n",
       "    </tr>\n",
       "    <tr>\n",
       "      <th>11</th>\n",
       "      <td>9898.93</td>\n",
       "      <td>-4716.68</td>\n",
       "      <td>5182.25</td>\n",
       "      <td>52.351618</td>\n",
       "    </tr>\n",
       "    <tr>\n",
       "      <th>12</th>\n",
       "      <td>12101.04</td>\n",
       "      <td>-6435.44</td>\n",
       "      <td>5665.60</td>\n",
       "      <td>46.819116</td>\n",
       "    </tr>\n",
       "    <tr>\n",
       "      <th rowspan=\"5\" valign=\"top\">2023</th>\n",
       "      <th>1</th>\n",
       "      <td>15245.58</td>\n",
       "      <td>-7908.52</td>\n",
       "      <td>7337.06</td>\n",
       "      <td>48.125817</td>\n",
       "    </tr>\n",
       "    <tr>\n",
       "      <th>2</th>\n",
       "      <td>18717.43</td>\n",
       "      <td>-10170.83</td>\n",
       "      <td>8546.60</td>\n",
       "      <td>45.661183</td>\n",
       "    </tr>\n",
       "    <tr>\n",
       "      <th>3</th>\n",
       "      <td>23490.02</td>\n",
       "      <td>-16173.10</td>\n",
       "      <td>7316.92</td>\n",
       "      <td>31.149058</td>\n",
       "    </tr>\n",
       "    <tr>\n",
       "      <th>4</th>\n",
       "      <td>30586.43</td>\n",
       "      <td>-16435.06</td>\n",
       "      <td>14151.37</td>\n",
       "      <td>46.266825</td>\n",
       "    </tr>\n",
       "    <tr>\n",
       "      <th>5</th>\n",
       "      <td>3481.48</td>\n",
       "      <td>-1430.71</td>\n",
       "      <td>2050.77</td>\n",
       "      <td>58.905121</td>\n",
       "    </tr>\n",
       "  </tbody>\n",
       "</table>\n",
       "</div>"
      ],
      "text/plain": [
       "Статья       Продажи  Себестоимость  Марж.прибыль    Маржа_%\n",
       "Год  Месяц                                                  \n",
       "2021 1       4359.73       -3099.21       1260.52  28.912800\n",
       "     2       4715.93       -2929.78       1786.15  37.874820\n",
       "     3      18806.48      -13598.91       5207.57  27.690296\n",
       "     4      15606.04      -11753.98       3852.06  24.683136\n",
       "     5      22704.43      -16295.36       6409.07  28.228280\n",
       "     6       4466.78       -3399.83       1066.95  23.886334\n",
       "     7       7522.26       -5744.54       1777.72  23.632791\n",
       "     8      15538.91      -11259.57       4279.34  27.539512\n",
       "     9       9982.02       -7080.45       2901.57  29.067964\n",
       "     10     21107.48      -16136.20       4971.28  23.552219\n",
       "     11     17526.23      -12713.84       4812.39  27.458215\n",
       "     12     38245.56      -25340.20      12905.36  33.743420\n",
       "2022 1       6898.70       -4643.99       2254.71  32.683114\n",
       "     2       9193.99       -6561.85       2632.14  28.628920\n",
       "     3      12686.58       -8421.97       4264.61  33.615127\n",
       "     4      20121.88      -11556.45       8565.43  42.567742\n",
       "     5      14946.99       -7813.73       7133.26  47.723722\n",
       "     6       8179.76       -4396.19       3783.57  46.255269\n",
       "     7       9625.70       -5635.81       3989.89  41.450388\n",
       "     8       7064.48       -3757.42       3307.06  46.812504\n",
       "     9       8555.83       -4627.66       3928.17  45.912203\n",
       "     10     19661.79      -13547.31       6114.48  31.098288\n",
       "     11      9898.93       -4716.68       5182.25  52.351618\n",
       "     12     12101.04       -6435.44       5665.60  46.819116\n",
       "2023 1      15245.58       -7908.52       7337.06  48.125817\n",
       "     2      18717.43      -10170.83       8546.60  45.661183\n",
       "     3      23490.02      -16173.10       7316.92  31.149058\n",
       "     4      30586.43      -16435.06      14151.37  46.266825\n",
       "     5       3481.48       -1430.71       2050.77  58.905121"
      ]
     },
     "execution_count": 10,
     "metadata": {},
     "output_type": "execute_result"
    }
   ],
   "source": [
    "pt1 = pd.pivot_table(df, index=['Статья'], values=['ДС'], columns=['Год', 'Месяц'], aggfunc='sum', fill_value='', margins=False).round(2)\n",
    "pt1 = pt1['ДС']\n",
    "pt1 = pt1.transpose()\n",
    "pt1['Марж.прибыль'] = pt1['Продажи'] + pt1['Себестоимость']\n",
    "pt1['Маржа_%'] = (pt1['Марж.прибыль']/pt1['Продажи'])*100\n",
    "\n",
    "pt1"
   ]
  },
  {
   "cell_type": "code",
   "execution_count": 11,
   "metadata": {},
   "outputs": [
    {
     "data": {
      "text/plain": [
       "Год   Месяц\n",
       "2021  1         1260.52\n",
       "      2         1786.15\n",
       "      3         5207.57\n",
       "      4         3852.06\n",
       "      5         6409.07\n",
       "      6         1066.95\n",
       "      7         1777.72\n",
       "      8         4279.34\n",
       "      9         2901.57\n",
       "      10        4971.28\n",
       "      11        4812.39\n",
       "      12       12905.36\n",
       "2022  1         2254.71\n",
       "      2         2632.14\n",
       "      3         4264.61\n",
       "      4         8565.43\n",
       "      5         7133.26\n",
       "      6         3783.57\n",
       "      7         3989.89\n",
       "      8         3307.06\n",
       "      9         3928.17\n",
       "      10        6114.48\n",
       "      11        5182.25\n",
       "      12        5665.60\n",
       "2023  1         7337.06\n",
       "      2         8546.60\n",
       "      3         7316.92\n",
       "      4        14151.37\n",
       "      5         2050.77\n",
       "Name: Марж.прибыль, dtype: float64"
      ]
     },
     "execution_count": 11,
     "metadata": {},
     "output_type": "execute_result"
    }
   ],
   "source": [
    "tabl = pt1.loc[:, \"Марж.прибыль\"]\n",
    "\n",
    "tabl"
   ]
  },
  {
   "cell_type": "code",
   "execution_count": 12,
   "metadata": {},
   "outputs": [
    {
     "name": "stdout",
     "output_type": "stream",
     "text": [
      "<class 'pandas.core.series.Series'>\n",
      "MultiIndex: 29 entries, (np.int64(2021), np.int64(1)) to (np.int64(2023), np.int64(5))\n",
      "Series name: Марж.прибыль\n",
      "Non-Null Count  Dtype  \n",
      "--------------  -----  \n",
      "29 non-null     float64\n",
      "dtypes: float64(1)\n",
      "memory usage: 542.0 bytes\n"
     ]
    }
   ],
   "source": [
    "tabl.info()"
   ]
  },
  {
   "cell_type": "code",
   "execution_count": 13,
   "metadata": {},
   "outputs": [
    {
     "data": {
      "text/plain": [
       "<Axes: xlabel='Год,Месяц'>"
      ]
     },
     "execution_count": 13,
     "metadata": {},
     "output_type": "execute_result"
    },
    {
     "data": {
      "image/png": "[encoded data removed]",
      "text/plain": [
       "<Figure size 640x480 with 1 Axes>"
      ]
     },
     "metadata": {},
     "output_type": "display_data"
    }
   ],
   "source": [
    "tabl.plot(kind=\"line\")"
   ]
  },
  {
   "cell_type": "code",
   "execution_count": 14,
   "metadata": {},
   "outputs": [
    {
     "data": {
      "text/html": [
       "<div>\n",
       "<style scoped>\n",
       "    .dataframe tbody tr th:only-of-type {\n",
       "        vertical-align: middle;\n",
       "    }\n",
       "\n",
       "    .dataframe tbody tr th {\n",
       "        vertical-align: top;\n",
       "    }\n",
       "\n",
       "    .dataframe thead th {\n",
       "        text-align: right;\n",
       "    }\n",
       "</style>\n",
       "<table border=\"1\" class=\"dataframe\">\n",
       "  <thead>\n",
       "    <tr style=\"text-align: right;\">\n",
       "      <th></th>\n",
       "      <th>N</th>\n",
       "      <th>DATA</th>\n",
       "      <th>Уточнение периода</th>\n",
       "      <th>Документ</th>\n",
       "      <th>SD</th>\n",
       "      <th>Кол.</th>\n",
       "      <th>Количество Дт</th>\n",
       "      <th>Валюта Дт</th>\n",
       "      <th>Вал. сумма Дт</th>\n",
       "      <th>Подразделение Дт</th>\n",
       "      <th>...</th>\n",
       "      <th>Год</th>\n",
       "      <th>Месяц</th>\n",
       "      <th>День</th>\n",
       "      <th>Квартал</th>\n",
       "      <th>YM</th>\n",
       "      <th>Статья</th>\n",
       "      <th>Номенклатура</th>\n",
       "      <th>ДС</th>\n",
       "      <th>Продажи</th>\n",
       "      <th>Себестоимость</th>\n",
       "    </tr>\n",
       "  </thead>\n",
       "  <tbody>\n",
       "    <tr>\n",
       "      <th>41887</th>\n",
       "      <td>14</td>\n",
       "      <td>2023-05-22 09:42:46</td>\n",
       "      <td>NaN</td>\n",
       "      <td>NaN</td>\n",
       "      <td>62.01</td>\n",
       "      <td>NaN</td>\n",
       "      <td>NaN</td>\n",
       "      <td>NaN</td>\n",
       "      <td>NaN</td>\n",
       "      <td>NaN</td>\n",
       "      <td>...</td>\n",
       "      <td>2023</td>\n",
       "      <td>5</td>\n",
       "      <td>22</td>\n",
       "      <td>2</td>\n",
       "      <td>2023-05</td>\n",
       "      <td>Продажи</td>\n",
       "      <td>Телефон модель 390</td>\n",
       "      <td>19.491667</td>\n",
       "      <td>19.491667</td>\n",
       "      <td>0.0</td>\n",
       "    </tr>\n",
       "    <tr>\n",
       "      <th>41888</th>\n",
       "      <td>15</td>\n",
       "      <td>2023-05-22 09:42:46</td>\n",
       "      <td>NaN</td>\n",
       "      <td>NaN</td>\n",
       "      <td>62.01</td>\n",
       "      <td>NaN</td>\n",
       "      <td>NaN</td>\n",
       "      <td>NaN</td>\n",
       "      <td>NaN</td>\n",
       "      <td>NaN</td>\n",
       "      <td>...</td>\n",
       "      <td>2023</td>\n",
       "      <td>5</td>\n",
       "      <td>22</td>\n",
       "      <td>2</td>\n",
       "      <td>2023-05</td>\n",
       "      <td>Продажи</td>\n",
       "      <td>Телефон модель 420</td>\n",
       "      <td>10.241667</td>\n",
       "      <td>10.241667</td>\n",
       "      <td>0.0</td>\n",
       "    </tr>\n",
       "    <tr>\n",
       "      <th>41889</th>\n",
       "      <td>16</td>\n",
       "      <td>2023-05-22 09:42:46</td>\n",
       "      <td>NaN</td>\n",
       "      <td>NaN</td>\n",
       "      <td>62.01</td>\n",
       "      <td>NaN</td>\n",
       "      <td>NaN</td>\n",
       "      <td>NaN</td>\n",
       "      <td>NaN</td>\n",
       "      <td>NaN</td>\n",
       "      <td>...</td>\n",
       "      <td>2023</td>\n",
       "      <td>5</td>\n",
       "      <td>22</td>\n",
       "      <td>2</td>\n",
       "      <td>2023-05</td>\n",
       "      <td>Продажи</td>\n",
       "      <td>Телефон модель 420</td>\n",
       "      <td>10.233333</td>\n",
       "      <td>10.233333</td>\n",
       "      <td>0.0</td>\n",
       "    </tr>\n",
       "    <tr>\n",
       "      <th>41890</th>\n",
       "      <td>17</td>\n",
       "      <td>2023-05-22 09:42:46</td>\n",
       "      <td>NaN</td>\n",
       "      <td>NaN</td>\n",
       "      <td>62.01</td>\n",
       "      <td>NaN</td>\n",
       "      <td>NaN</td>\n",
       "      <td>NaN</td>\n",
       "      <td>NaN</td>\n",
       "      <td>NaN</td>\n",
       "      <td>...</td>\n",
       "      <td>2023</td>\n",
       "      <td>5</td>\n",
       "      <td>22</td>\n",
       "      <td>2</td>\n",
       "      <td>2023-05</td>\n",
       "      <td>Продажи</td>\n",
       "      <td>Телефон модель 920</td>\n",
       "      <td>15.675000</td>\n",
       "      <td>15.675000</td>\n",
       "      <td>0.0</td>\n",
       "    </tr>\n",
       "    <tr>\n",
       "      <th>41891</th>\n",
       "      <td>18</td>\n",
       "      <td>2023-05-22 09:42:46</td>\n",
       "      <td>NaN</td>\n",
       "      <td>NaN</td>\n",
       "      <td>62.01</td>\n",
       "      <td>NaN</td>\n",
       "      <td>NaN</td>\n",
       "      <td>NaN</td>\n",
       "      <td>NaN</td>\n",
       "      <td>NaN</td>\n",
       "      <td>...</td>\n",
       "      <td>2023</td>\n",
       "      <td>5</td>\n",
       "      <td>22</td>\n",
       "      <td>2</td>\n",
       "      <td>2023-05</td>\n",
       "      <td>Продажи</td>\n",
       "      <td>Гаджет 199</td>\n",
       "      <td>0.716667</td>\n",
       "      <td>0.716667</td>\n",
       "      <td>0.0</td>\n",
       "    </tr>\n",
       "  </tbody>\n",
       "</table>\n",
       "<p>5 rows × 44 columns</p>\n",
       "</div>"
      ],
      "text/plain": [
       "        N                DATA  Уточнение периода  Документ     SD Кол.  \\\n",
       "41887  14 2023-05-22 09:42:46                NaN       NaN  62.01  NaN   \n",
       "41888  15 2023-05-22 09:42:46                NaN       NaN  62.01  NaN   \n",
       "41889  16 2023-05-22 09:42:46                NaN       NaN  62.01  NaN   \n",
       "41890  17 2023-05-22 09:42:46                NaN       NaN  62.01  NaN   \n",
       "41891  18 2023-05-22 09:42:46                NaN       NaN  62.01  NaN   \n",
       "\n",
       "       Количество Дт Валюта Дт  Вал. сумма Дт  Подразделение Дт  ...   Год  \\\n",
       "41887            NaN       NaN            NaN               NaN  ...  2023   \n",
       "41888            NaN       NaN            NaN               NaN  ...  2023   \n",
       "41889            NaN       NaN            NaN               NaN  ...  2023   \n",
       "41890            NaN       NaN            NaN               NaN  ...  2023   \n",
       "41891            NaN       NaN            NaN               NaN  ...  2023   \n",
       "\n",
       "      Месяц День Квартал       YM   Статья        Номенклатура         ДС  \\\n",
       "41887     5   22       2  2023-05  Продажи  Телефон модель 390  19.491667   \n",
       "41888     5   22       2  2023-05  Продажи  Телефон модель 420  10.241667   \n",
       "41889     5   22       2  2023-05  Продажи  Телефон модель 420  10.233333   \n",
       "41890     5   22       2  2023-05  Продажи  Телефон модель 920  15.675000   \n",
       "41891     5   22       2  2023-05  Продажи          Гаджет 199   0.716667   \n",
       "\n",
       "         Продажи Себестоимость  \n",
       "41887  19.491667           0.0  \n",
       "41888  10.241667           0.0  \n",
       "41889  10.233333           0.0  \n",
       "41890  15.675000           0.0  \n",
       "41891   0.716667           0.0  \n",
       "\n",
       "[5 rows x 44 columns]"
      ]
     },
     "execution_count": 14,
     "metadata": {},
     "output_type": "execute_result"
    }
   ],
   "source": [
    "\n",
    "df.tail()"
   ]
  },
  {
   "cell_type": "code",
   "execution_count": 15,
   "metadata": {},
   "outputs": [
    {
     "data": {
      "text/html": [
       "<div>\n",
       "<style scoped>\n",
       "    .dataframe tbody tr th:only-of-type {\n",
       "        vertical-align: middle;\n",
       "    }\n",
       "\n",
       "    .dataframe tbody tr th {\n",
       "        vertical-align: top;\n",
       "    }\n",
       "\n",
       "    .dataframe thead th {\n",
       "        text-align: right;\n",
       "    }\n",
       "</style>\n",
       "<table border=\"1\" class=\"dataframe\">\n",
       "  <thead>\n",
       "    <tr style=\"text-align: right;\">\n",
       "      <th></th>\n",
       "      <th>N</th>\n",
       "      <th>DATA</th>\n",
       "      <th>Уточнение периода</th>\n",
       "      <th>Документ</th>\n",
       "      <th>SD</th>\n",
       "      <th>Кол.</th>\n",
       "      <th>Количество Дт</th>\n",
       "      <th>Валюта Дт</th>\n",
       "      <th>Вал. сумма Дт</th>\n",
       "      <th>Подразделение Дт</th>\n",
       "      <th>...</th>\n",
       "      <th>Год</th>\n",
       "      <th>Месяц</th>\n",
       "      <th>День</th>\n",
       "      <th>Квартал</th>\n",
       "      <th>YM</th>\n",
       "      <th>Статья</th>\n",
       "      <th>Номенклатура</th>\n",
       "      <th>ДС</th>\n",
       "      <th>Продажи</th>\n",
       "      <th>Себестоимость</th>\n",
       "    </tr>\n",
       "  </thead>\n",
       "  <tbody>\n",
       "    <tr>\n",
       "      <th>41887</th>\n",
       "      <td>14</td>\n",
       "      <td>2023-05-22 09:42:46</td>\n",
       "      <td>NaN</td>\n",
       "      <td>NaN</td>\n",
       "      <td>62.01</td>\n",
       "      <td>NaN</td>\n",
       "      <td>NaN</td>\n",
       "      <td>NaN</td>\n",
       "      <td>NaN</td>\n",
       "      <td>NaN</td>\n",
       "      <td>...</td>\n",
       "      <td>2023</td>\n",
       "      <td>5</td>\n",
       "      <td>22</td>\n",
       "      <td>2</td>\n",
       "      <td>2023-05</td>\n",
       "      <td>Продажи</td>\n",
       "      <td>Телефон модель 390</td>\n",
       "      <td>19.491667</td>\n",
       "      <td>19.491667</td>\n",
       "      <td>0.0</td>\n",
       "    </tr>\n",
       "    <tr>\n",
       "      <th>41888</th>\n",
       "      <td>15</td>\n",
       "      <td>2023-05-22 09:42:46</td>\n",
       "      <td>NaN</td>\n",
       "      <td>NaN</td>\n",
       "      <td>62.01</td>\n",
       "      <td>NaN</td>\n",
       "      <td>NaN</td>\n",
       "      <td>NaN</td>\n",
       "      <td>NaN</td>\n",
       "      <td>NaN</td>\n",
       "      <td>...</td>\n",
       "      <td>2023</td>\n",
       "      <td>5</td>\n",
       "      <td>22</td>\n",
       "      <td>2</td>\n",
       "      <td>2023-05</td>\n",
       "      <td>Продажи</td>\n",
       "      <td>Телефон модель 420</td>\n",
       "      <td>10.241667</td>\n",
       "      <td>10.241667</td>\n",
       "      <td>0.0</td>\n",
       "    </tr>\n",
       "    <tr>\n",
       "      <th>41889</th>\n",
       "      <td>16</td>\n",
       "      <td>2023-05-22 09:42:46</td>\n",
       "      <td>NaN</td>\n",
       "      <td>NaN</td>\n",
       "      <td>62.01</td>\n",
       "      <td>NaN</td>\n",
       "      <td>NaN</td>\n",
       "      <td>NaN</td>\n",
       "      <td>NaN</td>\n",
       "      <td>NaN</td>\n",
       "      <td>...</td>\n",
       "      <td>2023</td>\n",
       "      <td>5</td>\n",
       "      <td>22</td>\n",
       "      <td>2</td>\n",
       "      <td>2023-05</td>\n",
       "      <td>Продажи</td>\n",
       "      <td>Телефон модель 420</td>\n",
       "      <td>10.233333</td>\n",
       "      <td>10.233333</td>\n",
       "      <td>0.0</td>\n",
       "    </tr>\n",
       "    <tr>\n",
       "      <th>41890</th>\n",
       "      <td>17</td>\n",
       "      <td>2023-05-22 09:42:46</td>\n",
       "      <td>NaN</td>\n",
       "      <td>NaN</td>\n",
       "      <td>62.01</td>\n",
       "      <td>NaN</td>\n",
       "      <td>NaN</td>\n",
       "      <td>NaN</td>\n",
       "      <td>NaN</td>\n",
       "      <td>NaN</td>\n",
       "      <td>...</td>\n",
       "      <td>2023</td>\n",
       "      <td>5</td>\n",
       "      <td>22</td>\n",
       "      <td>2</td>\n",
       "      <td>2023-05</td>\n",
       "      <td>Продажи</td>\n",
       "      <td>Телефон модель 920</td>\n",
       "      <td>15.675000</td>\n",
       "      <td>15.675000</td>\n",
       "      <td>0.0</td>\n",
       "    </tr>\n",
       "    <tr>\n",
       "      <th>41891</th>\n",
       "      <td>18</td>\n",
       "      <td>2023-05-22 09:42:46</td>\n",
       "      <td>NaN</td>\n",
       "      <td>NaN</td>\n",
       "      <td>62.01</td>\n",
       "      <td>NaN</td>\n",
       "      <td>NaN</td>\n",
       "      <td>NaN</td>\n",
       "      <td>NaN</td>\n",
       "      <td>NaN</td>\n",
       "      <td>...</td>\n",
       "      <td>2023</td>\n",
       "      <td>5</td>\n",
       "      <td>22</td>\n",
       "      <td>2</td>\n",
       "      <td>2023-05</td>\n",
       "      <td>Продажи</td>\n",
       "      <td>Гаджет 199</td>\n",
       "      <td>0.716667</td>\n",
       "      <td>0.716667</td>\n",
       "      <td>0.0</td>\n",
       "    </tr>\n",
       "  </tbody>\n",
       "</table>\n",
       "<p>5 rows × 44 columns</p>\n",
       "</div>"
      ],
      "text/plain": [
       "        N                DATA  Уточнение периода  Документ     SD Кол.  \\\n",
       "41887  14 2023-05-22 09:42:46                NaN       NaN  62.01  NaN   \n",
       "41888  15 2023-05-22 09:42:46                NaN       NaN  62.01  NaN   \n",
       "41889  16 2023-05-22 09:42:46                NaN       NaN  62.01  NaN   \n",
       "41890  17 2023-05-22 09:42:46                NaN       NaN  62.01  NaN   \n",
       "41891  18 2023-05-22 09:42:46                NaN       NaN  62.01  NaN   \n",
       "\n",
       "       Количество Дт Валюта Дт  Вал. сумма Дт  Подразделение Дт  ...   Год  \\\n",
       "41887            NaN       NaN            NaN               NaN  ...  2023   \n",
       "41888            NaN       NaN            NaN               NaN  ...  2023   \n",
       "41889            NaN       NaN            NaN               NaN  ...  2023   \n",
       "41890            NaN       NaN            NaN               NaN  ...  2023   \n",
       "41891            NaN       NaN            NaN               NaN  ...  2023   \n",
       "\n",
       "      Месяц День Квартал       YM   Статья        Номенклатура         ДС  \\\n",
       "41887     5   22       2  2023-05  Продажи  Телефон модель 390  19.491667   \n",
       "41888     5   22       2  2023-05  Продажи  Телефон модель 420  10.241667   \n",
       "41889     5   22       2  2023-05  Продажи  Телефон модель 420  10.233333   \n",
       "41890     5   22       2  2023-05  Продажи  Телефон модель 920  15.675000   \n",
       "41891     5   22       2  2023-05  Продажи          Гаджет 199   0.716667   \n",
       "\n",
       "         Продажи Себестоимость  \n",
       "41887  19.491667           0.0  \n",
       "41888  10.241667           0.0  \n",
       "41889  10.233333           0.0  \n",
       "41890  15.675000           0.0  \n",
       "41891   0.716667           0.0  \n",
       "\n",
       "[5 rows x 44 columns]"
      ]
     },
     "execution_count": 15,
     "metadata": {},
     "output_type": "execute_result"
    }
   ],
   "source": [
    "\n",
    "df90 = df[df['SK']=='90.01.1']\n",
    "\n",
    "df90.tail()"
   ]
  },
  {
   "cell_type": "code",
   "execution_count": 16,
   "metadata": {},
   "outputs": [
    {
     "data": {
      "text/html": [
       "<div>\n",
       "<style scoped>\n",
       "    .dataframe tbody tr th:only-of-type {\n",
       "        vertical-align: middle;\n",
       "    }\n",
       "\n",
       "    .dataframe tbody tr th {\n",
       "        vertical-align: top;\n",
       "    }\n",
       "\n",
       "    .dataframe thead th {\n",
       "        text-align: right;\n",
       "    }\n",
       "</style>\n",
       "<table border=\"1\" class=\"dataframe\">\n",
       "  <thead>\n",
       "    <tr style=\"text-align: right;\">\n",
       "      <th></th>\n",
       "      <th>YM</th>\n",
       "      <th>ДС</th>\n",
       "    </tr>\n",
       "  </thead>\n",
       "  <tbody>\n",
       "    <tr>\n",
       "      <th>0</th>\n",
       "      <td>2021-01</td>\n",
       "      <td>4.359725</td>\n",
       "    </tr>\n",
       "    <tr>\n",
       "      <th>1</th>\n",
       "      <td>2021-02</td>\n",
       "      <td>4.715933</td>\n",
       "    </tr>\n",
       "    <tr>\n",
       "      <th>2</th>\n",
       "      <td>2021-03</td>\n",
       "      <td>18.806483</td>\n",
       "    </tr>\n",
       "    <tr>\n",
       "      <th>3</th>\n",
       "      <td>2021-04</td>\n",
       "      <td>15.606042</td>\n",
       "    </tr>\n",
       "    <tr>\n",
       "      <th>4</th>\n",
       "      <td>2021-05</td>\n",
       "      <td>22.704433</td>\n",
       "    </tr>\n",
       "    <tr>\n",
       "      <th>5</th>\n",
       "      <td>2021-06</td>\n",
       "      <td>4.466783</td>\n",
       "    </tr>\n",
       "    <tr>\n",
       "      <th>6</th>\n",
       "      <td>2021-07</td>\n",
       "      <td>7.522258</td>\n",
       "    </tr>\n",
       "    <tr>\n",
       "      <th>7</th>\n",
       "      <td>2021-08</td>\n",
       "      <td>15.538908</td>\n",
       "    </tr>\n",
       "    <tr>\n",
       "      <th>8</th>\n",
       "      <td>2021-09</td>\n",
       "      <td>9.982017</td>\n",
       "    </tr>\n",
       "    <tr>\n",
       "      <th>9</th>\n",
       "      <td>2021-10</td>\n",
       "      <td>21.107475</td>\n",
       "    </tr>\n",
       "    <tr>\n",
       "      <th>10</th>\n",
       "      <td>2021-11</td>\n",
       "      <td>17.526233</td>\n",
       "    </tr>\n",
       "    <tr>\n",
       "      <th>11</th>\n",
       "      <td>2021-12</td>\n",
       "      <td>38.245558</td>\n",
       "    </tr>\n",
       "    <tr>\n",
       "      <th>12</th>\n",
       "      <td>2022-01</td>\n",
       "      <td>6.898700</td>\n",
       "    </tr>\n",
       "    <tr>\n",
       "      <th>13</th>\n",
       "      <td>2022-02</td>\n",
       "      <td>9.193992</td>\n",
       "    </tr>\n",
       "    <tr>\n",
       "      <th>14</th>\n",
       "      <td>2022-03</td>\n",
       "      <td>12.686575</td>\n",
       "    </tr>\n",
       "    <tr>\n",
       "      <th>15</th>\n",
       "      <td>2022-04</td>\n",
       "      <td>20.121875</td>\n",
       "    </tr>\n",
       "    <tr>\n",
       "      <th>16</th>\n",
       "      <td>2022-05</td>\n",
       "      <td>14.946992</td>\n",
       "    </tr>\n",
       "    <tr>\n",
       "      <th>17</th>\n",
       "      <td>2022-06</td>\n",
       "      <td>8.179758</td>\n",
       "    </tr>\n",
       "    <tr>\n",
       "      <th>18</th>\n",
       "      <td>2022-07</td>\n",
       "      <td>9.625700</td>\n",
       "    </tr>\n",
       "    <tr>\n",
       "      <th>19</th>\n",
       "      <td>2022-08</td>\n",
       "      <td>7.064483</td>\n",
       "    </tr>\n",
       "    <tr>\n",
       "      <th>20</th>\n",
       "      <td>2022-09</td>\n",
       "      <td>8.555833</td>\n",
       "    </tr>\n",
       "    <tr>\n",
       "      <th>21</th>\n",
       "      <td>2022-10</td>\n",
       "      <td>19.661792</td>\n",
       "    </tr>\n",
       "    <tr>\n",
       "      <th>22</th>\n",
       "      <td>2022-11</td>\n",
       "      <td>9.898925</td>\n",
       "    </tr>\n",
       "    <tr>\n",
       "      <th>23</th>\n",
       "      <td>2022-12</td>\n",
       "      <td>12.101042</td>\n",
       "    </tr>\n",
       "    <tr>\n",
       "      <th>24</th>\n",
       "      <td>2023-01</td>\n",
       "      <td>15.245575</td>\n",
       "    </tr>\n",
       "    <tr>\n",
       "      <th>25</th>\n",
       "      <td>2023-02</td>\n",
       "      <td>18.717433</td>\n",
       "    </tr>\n",
       "    <tr>\n",
       "      <th>26</th>\n",
       "      <td>2023-03</td>\n",
       "      <td>23.490017</td>\n",
       "    </tr>\n",
       "    <tr>\n",
       "      <th>27</th>\n",
       "      <td>2023-04</td>\n",
       "      <td>30.586433</td>\n",
       "    </tr>\n",
       "    <tr>\n",
       "      <th>28</th>\n",
       "      <td>2023-05</td>\n",
       "      <td>3.481475</td>\n",
       "    </tr>\n",
       "  </tbody>\n",
       "</table>\n",
       "</div>"
      ],
      "text/plain": [
       "         YM         ДС\n",
       "0   2021-01   4.359725\n",
       "1   2021-02   4.715933\n",
       "2   2021-03  18.806483\n",
       "3   2021-04  15.606042\n",
       "4   2021-05  22.704433\n",
       "5   2021-06   4.466783\n",
       "6   2021-07   7.522258\n",
       "7   2021-08  15.538908\n",
       "8   2021-09   9.982017\n",
       "9   2021-10  21.107475\n",
       "10  2021-11  17.526233\n",
       "11  2021-12  38.245558\n",
       "12  2022-01   6.898700\n",
       "13  2022-02   9.193992\n",
       "14  2022-03  12.686575\n",
       "15  2022-04  20.121875\n",
       "16  2022-05  14.946992\n",
       "17  2022-06   8.179758\n",
       "18  2022-07   9.625700\n",
       "19  2022-08   7.064483\n",
       "20  2022-09   8.555833\n",
       "21  2022-10  19.661792\n",
       "22  2022-11   9.898925\n",
       "23  2022-12  12.101042\n",
       "24  2023-01  15.245575\n",
       "25  2023-02  18.717433\n",
       "26  2023-03  23.490017\n",
       "27  2023-04  30.586433\n",
       "28  2023-05   3.481475"
      ]
     },
     "execution_count": 16,
     "metadata": {},
     "output_type": "execute_result"
    }
   ],
   "source": [
    "pt90_1 = pd.pivot_table(df90, index=['YM'], values=['ДС'], aggfunc='sum', fill_value=0, margins=False)/1000\n",
    "\n",
    "pt90_1.reset_index(inplace=True)\n",
    "\n",
    "pt90_1['YM'] = pt90_1['YM'].astype('str')\n",
    "pt90_1"
   ]
  },
  {
   "cell_type": "code",
   "execution_count": 17,
   "metadata": {},
   "outputs": [
    {
     "data": {
      "text/plain": [
       "<Axes: >"
      ]
     },
     "execution_count": 17,
     "metadata": {},
     "output_type": "execute_result"
    },
    {
     "data": {
      "image/png": "[encoded data removed]",
      "text/plain": [
       "<Figure size 640x480 with 1 Axes>"
      ]
     },
     "metadata": {},
     "output_type": "display_data"
    }
   ],
   "source": [
    "pt90_1.plot(kind='bar')"
   ]
  },
  {
   "cell_type": "code",
   "execution_count": 18,
   "metadata": {},
   "outputs": [
    {
     "data": {
      "text/html": [
       "<div>\n",
       "<style scoped>\n",
       "    .dataframe tbody tr th:only-of-type {\n",
       "        vertical-align: middle;\n",
       "    }\n",
       "\n",
       "    .dataframe tbody tr th {\n",
       "        vertical-align: top;\n",
       "    }\n",
       "\n",
       "    .dataframe thead th {\n",
       "        text-align: right;\n",
       "    }\n",
       "</style>\n",
       "<table border=\"1\" class=\"dataframe\">\n",
       "  <thead>\n",
       "    <tr style=\"text-align: right;\">\n",
       "      <th></th>\n",
       "      <th>Год</th>\n",
       "      <th>SKD1</th>\n",
       "      <th>SKK3</th>\n",
       "      <th>ДС</th>\n",
       "    </tr>\n",
       "  </thead>\n",
       "  <tbody>\n",
       "    <tr>\n",
       "      <th>0</th>\n",
       "      <td>2021</td>\n",
       "      <td>ТД Губари</td>\n",
       "      <td>товар прочий</td>\n",
       "      <td>625.000000</td>\n",
       "    </tr>\n",
       "    <tr>\n",
       "      <th>1</th>\n",
       "      <td>2021</td>\n",
       "      <td>ТД Завидово</td>\n",
       "      <td>Телефон модель 1</td>\n",
       "      <td>133.633333</td>\n",
       "    </tr>\n",
       "    <tr>\n",
       "      <th>2</th>\n",
       "      <td>2021</td>\n",
       "      <td>ТД Завидово</td>\n",
       "      <td>Телефон модель 220</td>\n",
       "      <td>1189.000000</td>\n",
       "    </tr>\n",
       "    <tr>\n",
       "      <th>3</th>\n",
       "      <td>2021</td>\n",
       "      <td>ТД Завидово</td>\n",
       "      <td>Телефон модель 289</td>\n",
       "      <td>683.416667</td>\n",
       "    </tr>\n",
       "    <tr>\n",
       "      <th>4</th>\n",
       "      <td>2021</td>\n",
       "      <td>ТД Завидово</td>\n",
       "      <td>Телефон модель 320</td>\n",
       "      <td>173.333333</td>\n",
       "    </tr>\n",
       "    <tr>\n",
       "      <th>...</th>\n",
       "      <td>...</td>\n",
       "      <td>...</td>\n",
       "      <td>...</td>\n",
       "      <td>...</td>\n",
       "    </tr>\n",
       "    <tr>\n",
       "      <th>357</th>\n",
       "      <td>2023</td>\n",
       "      <td>основной</td>\n",
       "      <td>Телефон модель 390</td>\n",
       "      <td>23.166667</td>\n",
       "    </tr>\n",
       "    <tr>\n",
       "      <th>358</th>\n",
       "      <td>2023</td>\n",
       "      <td>основной</td>\n",
       "      <td>Телефон модель 615</td>\n",
       "      <td>13.250000</td>\n",
       "    </tr>\n",
       "    <tr>\n",
       "      <th>359</th>\n",
       "      <td>2023</td>\n",
       "      <td>основной</td>\n",
       "      <td>Телефон модель 720</td>\n",
       "      <td>11.583333</td>\n",
       "    </tr>\n",
       "    <tr>\n",
       "      <th>360</th>\n",
       "      <td>2023</td>\n",
       "      <td>основной</td>\n",
       "      <td>Телефон модель 925</td>\n",
       "      <td>24.916667</td>\n",
       "    </tr>\n",
       "    <tr>\n",
       "      <th>361</th>\n",
       "      <td>2023</td>\n",
       "      <td>основной</td>\n",
       "      <td>Телефон модель А 925</td>\n",
       "      <td>21.183333</td>\n",
       "    </tr>\n",
       "  </tbody>\n",
       "</table>\n",
       "<p>362 rows × 4 columns</p>\n",
       "</div>"
      ],
      "text/plain": [
       "      Год         SKD1                  SKK3           ДС\n",
       "0    2021    ТД Губари          товар прочий   625.000000\n",
       "1    2021  ТД Завидово      Телефон модель 1   133.633333\n",
       "2    2021  ТД Завидово    Телефон модель 220  1189.000000\n",
       "3    2021  ТД Завидово    Телефон модель 289   683.416667\n",
       "4    2021  ТД Завидово    Телефон модель 320   173.333333\n",
       "..    ...          ...                   ...          ...\n",
       "357  2023     основной    Телефон модель 390    23.166667\n",
       "358  2023     основной    Телефон модель 615    13.250000\n",
       "359  2023     основной    Телефон модель 720    11.583333\n",
       "360  2023     основной    Телефон модель 925    24.916667\n",
       "361  2023     основной  Телефон модель А 925    21.183333\n",
       "\n",
       "[362 rows x 4 columns]"
      ]
     },
     "execution_count": 18,
     "metadata": {},
     "output_type": "execute_result"
    }
   ],
   "source": [
    "pt90_pn = pd.pivot_table(df90, index=['Год', 'SKD1', 'SKK3'], values=['ДС'], aggfunc='sum', fill_value=0, margins=False)\n",
    "# pt90_pn = pt90_pn['ДС']\n",
    "\n",
    "pt90_pn.reset_index(inplace=True)\n",
    "\n",
    "pt90_pn"
   ]
  },
  {
   "cell_type": "code",
   "execution_count": null,
   "metadata": {},
   "outputs": [
    {
     "data": {
      "application/vnd.plotly.v1+json": {
       "config": {
        "plotlyServerURL": "https://plot.ly"
       },
       "data": [
        {
         "branchvalues": "total",
         "customdata": [
          [
           "ТД Балашиха"
          ],
          [
           "ТД Питер"
          ],
          [
           "ТД Тверь"
          ],
          [
           "ТД Тверь"
          ],
          [
           "ТД Москва"
          ],
          [
           "ТД Конаково"
          ],
          [
           "ТД Коломна"
          ],
          [
           "ТД Коломна"
          ],
          [
           "ТД Истра"
          ],
          [
           "ТД Зарайск"
          ],
          [
           "ТД Завидово"
          ],
          [
           "ТД Питер"
          ],
          [
           "основной"
          ],
          [
           "ТД Питер"
          ],
          [
           "ТД Можайск"
          ],
          [
           "ТД Тверь"
          ],
          [
           "ТД Питер"
          ],
          [
           "ТД Питер"
          ],
          [
           "ТД Обнинск"
          ],
          [
           "ТД Новгород"
          ],
          [
           "ТД Новгород"
          ],
          [
           "ТД Новгород"
          ],
          [
           "ТД Балашиха"
          ],
          [
           "ТД Питер"
          ],
          [
           "ТД Тверь"
          ],
          [
           "ТД Обнинск"
          ],
          [
           "ТД Москва"
          ],
          [
           "ТД Коломна"
          ],
          [
           "ТД Коломна"
          ],
          [
           "ТД Завидово"
          ],
          [
           "ТД Тверь"
          ],
          [
           "ТД Питер"
          ],
          [
           "ТД Тверь"
          ],
          [
           "ТД Питер"
          ],
          [
           "ТД Новгород"
          ],
          [
           "основной"
          ],
          [
           "ТД Требовое"
          ],
          [
           "ТД Требовое"
          ],
          [
           "основной"
          ],
          [
           "ТД Обнинск"
          ],
          [
           "ТД Можайск"
          ],
          [
           "ТД Москва"
          ],
          [
           "ТД Новгород"
          ],
          [
           "ТД Тверь"
          ],
          [
           "ТД Москва"
          ],
          [
           "ТД Балашиха"
          ],
          [
           "ТД Дмитров"
          ],
          [
           "ТД Дмитров"
          ],
          [
           "ТД Завидово"
          ],
          [
           "ТД Требовое"
          ],
          [
           "ТД Питер"
          ],
          [
           "ТД Новгород"
          ],
          [
           "ТД Конаково"
          ],
          [
           "ТД Питер"
          ],
          [
           "ТД Требовое"
          ],
          [
           "ТД Питер"
          ],
          [
           "ТД Питер"
          ],
          [
           "ТД Требовое"
          ],
          [
           "ТД Новгород"
          ],
          [
           "ТД Зарайск"
          ],
          [
           "ТД Завидово"
          ],
          [
           "ТД Истра"
          ],
          [
           "ТД Коломна"
          ],
          [
           "ТД Коломна"
          ],
          [
           "ТД Коломна"
          ],
          [
           "ТД Конаково"
          ],
          [
           "ТД Москва"
          ],
          [
           "ТД Новгород"
          ],
          [
           "ТД Истра"
          ],
          [
           "ТД Новгород"
          ],
          [
           "ТД Завидово"
          ],
          [
           "ТД Дмитров"
          ],
          [
           "ТД Балашиха"
          ],
          [
           "основной"
          ],
          [
           "основной"
          ],
          [
           "ТД Требовое"
          ],
          [
           "ТД Требовое"
          ],
          [
           "ТД Москва"
          ],
          [
           "ТД Истра"
          ],
          [
           "ТД Истра"
          ],
          [
           "ТД Питер"
          ],
          [
           "ТД Требовое"
          ],
          [
           "ТД Тверь"
          ],
          [
           "ТД Питер"
          ],
          [
           "ТД Питер"
          ],
          [
           "ТД Новгород"
          ],
          [
           "ТД Требовое"
          ],
          [
           "ТД Питер"
          ],
          [
           "ТД Новгород"
          ],
          [
           "основной"
          ],
          [
           "основной"
          ],
          [
           "ТД Требовое"
          ],
          [
           "ТД Новгород"
          ],
          [
           "ТД Питер"
          ],
          [
           "ТД Питер"
          ],
          [
           "ТД Требовое"
          ],
          [
           "ТД Тверь"
          ],
          [
           "ТД Тверь"
          ],
          [
           "ТД Требовое"
          ],
          [
           "ТД Питер"
          ],
          [
           "ТД Требовое"
          ],
          [
           "ТД Требовое"
          ],
          [
           "ТД Питер"
          ],
          [
           "ТД Обнинск"
          ],
          [
           "ТД Москва"
          ],
          [
           "ТД Москва"
          ],
          [
           "ТД Можайск"
          ],
          [
           "ТД Конаково"
          ],
          [
           "ТД Конаково"
          ],
          [
           "ТД Коломна"
          ],
          [
           "ТД Коломна"
          ],
          [
           "ТД Коломна"
          ],
          [
           "ТД Требовое"
          ],
          [
           "ТД Требовое"
          ],
          [
           "ТД Питер"
          ],
          [
           "основной"
          ],
          [
           "ТД Требовое"
          ],
          [
           "основной"
          ],
          [
           "ТД Можайск"
          ],
          [
           "ТД Питер"
          ],
          [
           "ТД Питер"
          ],
          [
           "ТД Коломна"
          ],
          [
           "ТД Коломна"
          ],
          [
           "ТД Истра"
          ],
          [
           "ТД Новгород"
          ],
          [
           "ТД Балашиха"
          ],
          [
           "ТД Дмитров"
          ],
          [
           "ТД Балашиха"
          ],
          [
           "ТД Завидово"
          ],
          [
           "ТД Дмитров"
          ],
          [
           "ТД Дмитров"
          ],
          [
           "ТД Питер"
          ],
          [
           "ТД Требовое"
          ],
          [
           "ТД Требовое"
          ],
          [
           "основной"
          ],
          [
           "основной"
          ],
          [
           "ТД Дмитров"
          ],
          [
           "ТД Истра"
          ],
          [
           "ТД Коломна"
          ],
          [
           "ТД Конаково"
          ],
          [
           "ТД Конаково"
          ],
          [
           "ТД Можайск"
          ],
          [
           "ТД Москва"
          ],
          [
           "ТД Тверь"
          ],
          [
           "ТД Требовое"
          ],
          [
           "ТД Требовое"
          ],
          [
           "ТД Тверь"
          ],
          [
           "ТД Тверь"
          ],
          [
           "ТД Новгород"
          ],
          [
           "ТД Новгород"
          ],
          [
           "ТД Питер"
          ],
          [
           "ТД Питер"
          ],
          [
           "ТД Питер"
          ],
          [
           "ТД Тверь"
          ],
          [
           "ТД Тверь"
          ],
          [
           "ТД Требовое"
          ],
          [
           "ТД Требовое"
          ],
          [
           "основной"
          ],
          [
           "ТД Коломна"
          ],
          [
           "ТД Завидово"
          ],
          [
           "ТД Завидово"
          ],
          [
           "ТД Новгород"
          ],
          [
           "ТД Москва"
          ],
          [
           "ТД Питер"
          ],
          [
           "ТД Новгород"
          ],
          [
           "ТД Требовое"
          ],
          [
           "основной"
          ],
          [
           "ТД Тверь"
          ],
          [
           "ТД Тверь"
          ],
          [
           "ТД Истра"
          ],
          [
           "ТД Москва"
          ],
          [
           "ТД Новгород"
          ],
          [
           "ТД Питер"
          ],
          [
           "ТД Новгород"
          ],
          [
           "ТД Питер"
          ],
          [
           "ТД Москва"
          ],
          [
           "ТД Истра"
          ],
          [
           "ТД Балашиха"
          ],
          [
           "ТД Питер"
          ],
          [
           "ТД Питер"
          ],
          [
           "ТД Питер"
          ],
          [
           "ТД Новгород"
          ],
          [
           "ТД Коломна"
          ],
          [
           "ТД Москва"
          ],
          [
           "ТД Конаково"
          ],
          [
           "ТД Конаково"
          ],
          [
           "ТД Коломна"
          ],
          [
           "ТД Балашиха"
          ],
          [
           "ТД Дмитров"
          ],
          [
           "ТД Дмитров"
          ],
          [
           "ТД Завидово"
          ],
          [
           "ТД Завидово"
          ],
          [
           "ТД Зарайск"
          ],
          [
           "ТД Истра"
          ],
          [
           "ТД Истра"
          ],
          [
           "ТД Коломна"
          ],
          [
           "ТД Москва"
          ],
          [
           "ТД Тверь"
          ],
          [
           "ТД Коломна"
          ],
          [
           "ТД Коломна"
          ],
          [
           "ТД Тверь"
          ],
          [
           "ТД Новгород"
          ],
          [
           "ТД Новгород"
          ],
          [
           "ТД Москва"
          ],
          [
           "ТД Конаково"
          ],
          [
           "ТД Коломна"
          ],
          [
           "ТД Завидово"
          ],
          [
           "ТД Коломна"
          ],
          [
           "ТД Конаково"
          ],
          [
           "ТД Москва"
          ],
          [
           "ТД Обнинск"
          ],
          [
           "ТД Тверь"
          ],
          [
           "ТД Завидово"
          ],
          [
           "ТД Балашиха"
          ],
          [
           "ТД Новгород"
          ],
          [
           "ТД Тверь"
          ],
          [
           "ТД Москва"
          ],
          [
           "ТД Коломна"
          ],
          [
           "ТД Тверь"
          ],
          [
           "ТД Новгород"
          ],
          [
           "ТД Москва"
          ],
          [
           "ТД Конаково"
          ],
          [
           "ТД Балашиха"
          ],
          [
           "ТД Завидово"
          ],
          [
           "ТД Дмитров"
          ],
          [
           "ТД Дмитров"
          ],
          [
           "ТД Балашиха"
          ],
          [
           "ТД Требовое"
          ],
          [
           "ТД Требовое"
          ],
          [
           "ТД Тверь"
          ],
          [
           "ТД Тверь"
          ],
          [
           "ТД Новгород"
          ],
          [
           "ТД Тверь"
          ],
          [
           "ТД Требовое"
          ],
          [
           "ТД Коломна"
          ],
          [
           "ТД Коломна"
          ],
          [
           "ТД Истра"
          ],
          [
           "ТД Истра"
          ],
          [
           "ТД Завидово"
          ],
          [
           "ТД Дмитров"
          ],
          [
           "ТД Дмитров"
          ],
          [
           "ТД Тверь"
          ],
          [
           "основной"
          ],
          [
           "ТД Можайск"
          ],
          [
           "ТД Требовое"
          ],
          [
           "ТД Москва"
          ],
          [
           "ТД Питер"
          ],
          [
           "основной"
          ],
          [
           "ТД Требовое"
          ],
          [
           "ТД Тверь"
          ],
          [
           "ТД Питер"
          ],
          [
           "ТД Питер"
          ],
          [
           "ТД Новгород"
          ],
          [
           "ТД Нара"
          ],
          [
           "ТД Москва"
          ],
          [
           "ТД Требовое"
          ],
          [
           "ТД Можайск"
          ],
          [
           "основной"
          ],
          [
           "ТД Можайск"
          ],
          [
           "ТД Балашиха"
          ],
          [
           "ТД Дмитров"
          ],
          [
           "ТД Конаково"
          ],
          [
           "ТД Истра"
          ],
          [
           "ТД Истра"
          ],
          [
           "ТД Коломна"
          ],
          [
           "ТД Коломна"
          ],
          [
           "ТД Завидово"
          ],
          [
           "ТД Коломна"
          ],
          [
           "ТД Коломна"
          ],
          [
           "ТД Истра"
          ],
          [
           "ТД Истра"
          ],
          [
           "ТД Завидово"
          ],
          [
           "ТД Завидово"
          ],
          [
           "ТД Дмитров"
          ],
          [
           "ТД Дмитров"
          ],
          [
           "ТД Балашиха"
          ],
          [
           "основной"
          ],
          [
           "ТД Тверь"
          ],
          [
           "ТД Питер"
          ],
          [
           "ТД Завидово"
          ],
          [
           "основной"
          ],
          [
           "ТД Конаково"
          ],
          [
           "ТД Конаково"
          ],
          [
           "ТД Москва"
          ],
          [
           "ТД Конаково"
          ],
          [
           "ТД Конаково"
          ],
          [
           "ТД Коломна"
          ],
          [
           "ТД Коломна"
          ],
          [
           "ТД Завидово"
          ],
          [
           "основной"
          ],
          [
           "ТД Требовое"
          ],
          [
           "ТД Требовое"
          ],
          [
           "ТД Тверь"
          ],
          [
           "ТД Питер"
          ],
          [
           "ТД Питер"
          ],
          [
           "ТД Новгород"
          ],
          [
           "ТД Новгород"
          ],
          [
           "ТД Коломна"
          ],
          [
           "ТД Москва"
          ],
          [
           "ТД Москва"
          ],
          [
           "ТД Новгород"
          ],
          [
           "ТД Новгород"
          ],
          [
           "ТД Обнинск"
          ],
          [
           "ТД Питер"
          ],
          [
           "ТД Тверь"
          ],
          [
           "ТД Тверь"
          ],
          [
           "ТД Обнинск"
          ],
          [
           "ТД Москва"
          ],
          [
           "ТД Коломна"
          ],
          [
           "ТД Новгород"
          ],
          [
           "ТД Новгород"
          ],
          [
           "ТД Москва"
          ],
          [
           "ТД Москва"
          ],
          [
           "ТД Можайск"
          ],
          [
           "ТД Конаково"
          ],
          [
           "ТД Требовое"
          ],
          [
           "ТД Истра"
          ],
          [
           "ТД Истра"
          ],
          [
           "ТД Коломна"
          ],
          [
           "ТД Коломна"
          ],
          [
           "ТД Новгород"
          ],
          [
           "ТД Завидово"
          ],
          [
           "ТД Коломна"
          ],
          [
           "ТД Тверь"
          ],
          [
           "ТД Тверь"
          ],
          [
           "ТД Питер"
          ],
          [
           "ТД Питер"
          ],
          [
           "ТД Зарайск"
          ],
          [
           "ТД Требовое"
          ],
          [
           "ТД Дмитров"
          ],
          [
           "ТД Балашиха"
          ],
          [
           "ТД Требовое"
          ],
          [
           "ТД Требовое"
          ],
          [
           "ТД Тверь"
          ],
          [
           "ТД Обнинск"
          ],
          [
           "ТД Москва"
          ],
          [
           "ТД Москва"
          ],
          [
           "ТД Конаково"
          ],
          [
           "ТД Конаково"
          ],
          [
           "ТД Коломна"
          ],
          [
           "основной"
          ],
          [
           "ТД Тверь"
          ],
          [
           "ТД Тверь"
          ],
          [
           "ТД Тверь"
          ],
          [
           "ТД Питер"
          ],
          [
           "ТД Питер"
          ],
          [
           "ТД Питер"
          ],
          [
           "ТД Требовое"
          ],
          [
           "ТД Москва"
          ],
          [
           "ТД Новгород"
          ],
          [
           "ТД Новгород"
          ],
          [
           "ТД Новгород"
          ],
          [
           "ТД Москва"
          ],
          [
           "ТД Коломна"
          ],
          [
           "ТД Коломна"
          ],
          [
           "ТД Истра"
          ],
          [
           "ТД Истра"
          ],
          [
           "ТД Завидово"
          ],
          [
           "ТД Завидово"
          ],
          [
           "ТД Дмитров"
          ],
          [
           "основной"
          ],
          [
           "ТД Губари"
          ],
          [
           "ТД Балашиха"
          ],
          [
           "ТД Балашиха"
          ],
          [
           "ТД Губари"
          ],
          [
           "ТД Дмитров"
          ],
          [
           "ТД Дмитров"
          ],
          [
           "ТД Завидово"
          ],
          [
           "ТД Завидово"
          ],
          [
           "ТД Зарайск"
          ],
          [
           "ТД Истра"
          ],
          [
           "ТД Истра"
          ],
          [
           "ТД Коломна"
          ],
          [
           "ТД Коломна"
          ],
          [
           "ТД Коломна"
          ],
          [
           "ТД Конаково"
          ],
          [
           "ТД Конаково"
          ],
          [
           "ТД Конаково"
          ],
          [
           "ТД Можайск"
          ],
          [
           "ТД Можайск"
          ],
          [
           "ТД Москва"
          ],
          [
           "ТД Москва"
          ],
          [
           "ТД Москва"
          ],
          [
           "ТД Нара"
          ],
          [
           "ТД Новгород"
          ],
          [
           "ТД Новгород"
          ],
          [
           "ТД Новгород"
          ],
          [
           "ТД Обнинск"
          ],
          [
           "ТД Обнинск"
          ],
          [
           "ТД Питер"
          ],
          [
           "ТД Питер"
          ],
          [
           "ТД Питер"
          ],
          [
           "ТД Тверь"
          ],
          [
           "ТД Тверь"
          ],
          [
           "ТД Тверь"
          ],
          [
           "ТД Требовое"
          ],
          [
           "ТД Требовое"
          ],
          [
           "ТД Требовое"
          ],
          [
           "основной"
          ],
          [
           "основной"
          ],
          [
           "(?)"
          ],
          [
           "(?)"
          ],
          [
           "(?)"
          ],
          [
           "(?)"
          ]
         ],
         "domain": {
          "x": [
           0,
           1
          ],
          "y": [
           0,
           1
          ]
         },
         "hovertemplate": "labels=%{label}<br>ДС=%{value}<br>parent=%{parent}<br>id=%{id}<br>SKD1=%{customdata[0]}<extra></extra>",
         "ids": [
          "all/2023/ТД Балашиха/Телефон модель 320",
          "all/2023/ТД Питер/Телефон модель 715",
          "all/2021/ТД Тверь/Телефон модель 715",
          "all/2022/ТД Тверь/Телефон модель 715",
          "all/2021/ТД Москва/Телефон модель 320",
          "all/2021/ТД Конаково/Телефон модель 320",
          "all/2023/ТД Коломна/Телефон модель 320",
          "all/2021/ТД Коломна/Телефон модель 320",
          "all/2023/ТД Истра/Телефон модель 320",
          "all/2021/ТД Зарайск/Телефон модель 320",
          "all/2021/ТД Завидово/Телефон модель 320",
          "all/2022/ТД Питер/Телефон модель 715",
          "all/2022/основной/Телефон модель 289",
          "all/2021/ТД Питер/Телефон модель 715",
          "all/2023/ТД Можайск/Гаджет 199",
          "all/2021/ТД Тверь/Телефон модель 320",
          "all/2022/ТД Питер/Телефон модель 320",
          "all/2021/ТД Питер/Телефон модель 320",
          "all/2021/ТД Обнинск/Телефон модель 320",
          "all/2023/ТД Новгород/Телефон модель 320",
          "all/2022/ТД Новгород/Телефон модель 320",
          "all/2021/ТД Новгород/Телефон модель 320",
          "all/2023/ТД Балашиха/Телефон модель 385",
          "all/2022/ТД Питер/Телефон модель 720",
          "all/2021/ТД Тверь/Телефон модель 720",
          "all/2021/ТД Обнинск/Телефон модель 720",
          "all/2021/ТД Москва/Телефон модель 720",
          "all/2022/ТД Коломна/Телефон модель 720",
          "all/2021/ТД Коломна/Телефон модель 720",
          "all/2021/ТД Завидово/Телефон модель 720",
          "all/2023/ТД Тверь/Телефон модель 715",
          "all/2021/ТД Питер/Телефон модель 720",
          "all/2023/ТД Тверь/Телефон модель 320",
          "all/2023/ТД Питер/Гаджет 289",
          "all/2023/ТД Новгород/Гаджет 289",
          "all/2023/основной/Гаджет 199",
          "all/2022/ТД Требовое/Гаджет 289",
          "all/2023/ТД Требовое/Гаджет 289",
          "all/2023/основной/Гаджет 289",
          "all/2023/ТД Обнинск/Телефон модель 385",
          "all/2023/ТД Можайск/Телефон модель 385",
          "all/2023/ТД Москва/Телефон модель 385",
          "all/2023/ТД Новгород/Гаджет 390 С",
          "all/2023/ТД Тверь/Телефон модель 385",
          "all/2021/ТД Москва/Телефон модель 389",
          "all/2022/ТД Балашиха/Телефон модель 390",
          "all/2022/ТД Дмитров/Телефон модель 390",
          "all/2023/ТД Дмитров/Телефон модель 390",
          "all/2022/ТД Завидово/Телефон модель 390",
          "all/2022/ТД Требовое/Гаджет 199",
          "all/2023/ТД Питер/Гаджет 199",
          "all/2023/ТД Новгород/Гаджет 199",
          "all/2023/ТД Конаково/Телефон модель 385",
          "all/2023/ТД Питер/Гаджет 390 С",
          "all/2023/ТД Требовое/Гаджет 199",
          "all/2022/ТД Питер/Гаджет 420",
          "all/2023/ТД Питер/Гаджет 420",
          "all/2021/ТД Требовое/Гаджет 420",
          "all/2023/ТД Новгород/Гаджет 420",
          "all/2021/ТД Зарайск/Телефон модель 820",
          "all/2022/ТД Завидово/Телефон модель 820",
          "all/2022/ТД Истра/Телефон модель 390",
          "all/2021/ТД Коломна/Телефон модель 390",
          "all/2022/ТД Коломна/Телефон модель 390",
          "all/2023/ТД Коломна/Телефон модель 390",
          "all/2022/ТД Конаково/Телефон модель 390",
          "all/2021/ТД Москва/Телефон модель 390",
          "all/2021/ТД Новгород/Телефон модель 390",
          "all/2022/ТД Истра/Телефон модель 820",
          "all/2022/ТД Новгород/Телефон модель 390",
          "all/2021/ТД Завидово/Телефон модель 820",
          "all/2022/ТД Дмитров/Телефон модель 820",
          "all/2022/ТД Балашиха/Телефон модель 820",
          "all/2023/основной/Телефон модель 720",
          "all/2022/основной/Телефон модель 720",
          "all/2023/ТД Требовое/Телефон модель 720",
          "all/2022/ТД Требовое/Телефон модель 720",
          "all/2022/ТД Москва/Телефон модель 390",
          "all/2023/ТД Истра/Телефон модель 820",
          "all/2023/ТД Истра/Телефон модель 390",
          "all/2023/ТД Питер/Телефон модель 390",
          "all/2022/ТД Требовое/Гаджет 820",
          "all/2023/ТД Тверь/Телефон модель 390",
          "all/2023/ТД Питер/Гаджет 920",
          "all/2022/ТД Питер/Гаджет 920",
          "all/2023/ТД Новгород/Гаджет 920",
          "all/2023/ТД Требовое/Гаджет 820",
          "all/2023/ТД Питер/Телефон модель 395",
          "all/2023/ТД Новгород/Телефон модель 395",
          "all/2023/основной/Телефон модель 390",
          "all/2022/основной/Телефон модель 390",
          "all/2023/ТД Требовое/Телефон модель 390",
          "all/2023/ТД Новгород/Телефон модель 390",
          "all/2021/ТД Питер/Телефон модель 390",
          "all/2022/ТД Питер/Телефон модель 390",
          "all/2022/ТД Требовое/Телефон модель 390",
          "all/2021/ТД Тверь/Телефон модель 390",
          "all/2022/ТД Тверь/Телефон модель 390",
          "all/2021/ТД Требовое/Гаджет 820",
          "all/2023/ТД Питер/Гаджет 820",
          "all/2021/ТД Требовое/Телефон модель 390",
          "all/2023/ТД Требовое/Гаджет 425",
          "all/2021/ТД Питер/Телефон модель 820",
          "all/2021/ТД Обнинск/Телефон модель 820",
          "all/2022/ТД Москва/Телефон модель 820",
          "all/2021/ТД Москва/Телефон модель 820",
          "all/2022/ТД Можайск/Телефон модель 820",
          "all/2022/ТД Конаково/Телефон модель 820",
          "all/2021/ТД Конаково/Телефон модель 820",
          "all/2023/ТД Коломна/Телефон модель 820",
          "all/2022/ТД Коломна/Телефон модель 820",
          "all/2021/ТД Коломна/Телефон модель 820",
          "all/2022/ТД Требовое/Гаджет 420",
          "all/2023/ТД Требовое/Гаджет 420",
          "all/2022/ТД Питер/Гаджет 820",
          "all/2022/основной/Гаджет 420",
          "all/2022/ТД Требовое/Гаджет 425",
          "all/2023/основной/Гаджет 420",
          "all/2023/ТД Можайск/Гаджет 925",
          "all/2023/ТД Питер/Телефон модель 820",
          "all/2022/ТД Питер/Телефон модель 820",
          "all/2022/ТД Коломна/Телефон модель 420",
          "all/2021/ТД Коломна/Телефон модель 420",
          "all/2023/ТД Истра/Телефон модель 420",
          "all/2023/ТД Новгород/Гаджет 925",
          "all/2023/ТД Балашиха/Телефон модель 420",
          "all/2022/ТД Дмитров/Телефон модель 420",
          "all/2022/ТД Балашиха/Телефон модель 420",
          "all/2022/ТД Завидово/Телефон модель 420",
          "all/2023/ТД Дмитров/Прочие",
          "all/2022/ТД Дмитров/Маркетинговые услуги.",
          "all/2023/ТД Питер/Гаджет 925",
          "all/2022/ТД Требовое/Гаджет 920",
          "all/2023/ТД Требовое/Гаджет 920",
          "all/2022/основной/Гаджет 920",
          "all/2023/основной/Гаджет 920",
          "all/2023/ТД Дмитров/Телефон модель 420",
          "all/2022/ТД Истра/Телефон модель 420",
          "all/2023/ТД Коломна/Телефон модель 420",
          "all/2021/ТД Конаково/Телефон модель 420",
          "all/2022/ТД Конаково/Телефон модель 420",
          "all/2022/ТД Можайск/Телефон модель 420",
          "all/2021/ТД Москва/Телефон модель 420",
          "all/2021/ТД Тверь/Телефон модель 820",
          "all/2021/ТД Требовое/Телефон модель 820",
          "all/2022/ТД Требовое/Телефон модель 820",
          "all/2022/ТД Тверь/Телефон модель 820",
          "all/2021/ТД Тверь/Телефон модель 420",
          "all/2022/ТД Новгород/Телефон модель 420",
          "all/2023/ТД Новгород/Телефон модель 420",
          "all/2021/ТД Питер/Телефон модель 420",
          "all/2022/ТД Питер/Телефон модель 420",
          "all/2023/ТД Питер/Телефон модель 420",
          "all/2022/ТД Тверь/Телефон модель 420",
          "all/2023/ТД Тверь/Телефон модель 420",
          "all/2021/ТД Требовое/Телефон модель 420",
          "all/2022/ТД Требовое/Телефон модель 420",
          "all/2022/основной/Телефон модель 420",
          "all/2021/ТД Коломна/Телефон модель 1",
          "all/2022/ТД Завидово/Телефон модель 1",
          "all/2021/ТД Завидово/Телефон модель 1",
          "all/2021/ТД Новгород/Телефон модель 420",
          "all/2022/ТД Москва/Телефон модель 420",
          "all/2023/ТД Питер/Салфетка N420",
          "all/2023/ТД Новгород/Салфетка N420",
          "all/2023/ТД Требовое/Телефон модель 820",
          "all/2022/основной/Телефон модель 820",
          "all/2021/ТД Тверь/Телефон модель 1",
          "all/2022/ТД Тверь/Телефон модель 1",
          "all/2022/ТД Истра/Прочие",
          "all/2022/ТД Москва/Телефон модель 1",
          "all/2023/ТД Новгород/Салфетка N240",
          "all/2023/ТД Питер/Салфетка N240",
          "all/2023/ТД Новгород/Салфетка N395",
          "all/2023/ТД Питер/Салфетка N400",
          "all/2021/ТД Москва/Телефон модель 1",
          "all/2023/ТД Истра/Прочие",
          "all/2023/ТД Балашиха/Телефон модель 425",
          "all/2021/ТД Питер/Телефон модель 920",
          "all/2022/ТД Питер/Телефон модель 920",
          "all/2023/ТД Питер/Телефон модель 920",
          "all/2023/ТД Новгород/Телефон модель 920",
          "all/2022/ТД Коломна/Телефон модель 920",
          "all/2021/ТД Москва/Телефон модель 920",
          "all/2022/ТД Конаково/Телефон модель 920",
          "all/2021/ТД Конаково/Телефон модель 920",
          "all/2023/ТД Коломна/Телефон модель 920",
          "all/2022/ТД Балашиха/Телефон модель 920",
          "all/2022/ТД Дмитров/Телефон модель 920",
          "all/2023/ТД Дмитров/Телефон модель 920",
          "all/2021/ТД Завидово/Телефон модель 920",
          "all/2022/ТД Завидово/Телефон модель 920",
          "all/2021/ТД Зарайск/Телефон модель 920",
          "all/2022/ТД Истра/Телефон модель 920",
          "all/2023/ТД Истра/Телефон модель 920",
          "all/2021/ТД Коломна/Телефон модель 920",
          "all/2022/ТД Москва/Телефон модель 920",
          "all/2021/ТД Тверь/Телефон модель 920",
          "all/2023/ТД Коломна/Телефон модель 425",
          "all/2021/ТД Коломна/Телефон модель 220",
          "all/2021/ТД Тверь/Телефон модель 425",
          "all/2022/ТД Новгород/Телефон модель 425",
          "all/2021/ТД Новгород/Телефон модель 425",
          "all/2021/ТД Москва/Телефон модель 425",
          "all/2021/ТД Конаково/Телефон модель 425",
          "all/2022/ТД Коломна/Телефон модель 425",
          "all/2021/ТД Завидово/Телефон модель 425",
          "all/2021/ТД Коломна/Телефон модель 425",
          "all/2023/ТД Конаково/Телефон модель 195",
          "all/2023/ТД Москва/Телефон модель 195",
          "all/2023/ТД Обнинск/Телефон модель 195",
          "all/2023/ТД Тверь/Телефон модель 195",
          "all/2021/ТД Завидово/Телефон модель 220",
          "all/2023/ТД Балашиха/Телефон модель 195",
          "all/2021/ТД Новгород/Телефон модель 220",
          "all/2022/ТД Тверь/Телефон модель 920",
          "all/2022/ТД Москва/Телефон модель 220",
          "all/2022/ТД Коломна/Телефон модель 220",
          "all/2023/ТД Тверь/Телефон модель 920",
          "all/2022/ТД Новгород/Телефон модель 220",
          "all/2021/ТД Москва/Телефон модель 220",
          "all/2021/ТД Конаково/Телефон модель 220",
          "all/2022/ТД Балашиха/Телефон модель 490",
          "all/2021/ТД Завидово/Телефон модель 289",
          "all/2023/ТД Дмитров/Телефон модель 289",
          "all/2022/ТД Дмитров/Телефон модель 289",
          "all/2022/ТД Балашиха/Телефон модель 289",
          "all/2022/ТД Требовое/Телефон модель 220",
          "all/2021/ТД Требовое/Телефон модель 220",
          "all/2022/ТД Тверь/Телефон модель 220",
          "all/2021/ТД Тверь/Телефон модель 220",
          "all/2023/ТД Новгород/Телефон модель 220",
          "all/2022/ТД Тверь/Телефон модель 425",
          "all/2022/ТД Требовое/Телефон модель 425",
          "all/2023/ТД Коломна/Телефон модель 490",
          "all/2022/ТД Коломна/Телефон модель 490",
          "all/2023/ТД Истра/Телефон модель 490",
          "all/2022/ТД Истра/Телефон модель 490",
          "all/2022/ТД Завидово/Телефон модель 490",
          "all/2023/ТД Дмитров/Телефон модель 490",
          "all/2022/ТД Дмитров/Телефон модель 490",
          "all/2023/ТД Тверь/Телефон модель 425",
          "all/2022/основной/Телефон модель 425",
          "all/2022/ТД Можайск/Телефон модель 490",
          "all/2022/ТД Требовое/Телефон модель 920",
          "all/2022/ТД Москва/Телефон модель 490",
          "all/2022/ТД Питер/Телефон модель А 925",
          "all/2023/основной/Телефон модель 925",
          "all/2022/ТД Требовое/Телефон модель 925",
          "all/2022/ТД Тверь/Телефон модель 925",
          "all/2023/ТД Питер/Телефон модель 925",
          "all/2022/ТД Питер/Телефон модель 925",
          "all/2023/ТД Новгород/Телефон модель 925",
          "all/2022/ТД Нара/Телефон модель 925",
          "all/2022/ТД Москва/Телефон модель 925",
          "all/2023/ТД Требовое/Телефон модель 925",
          "all/2022/ТД Можайск/Телефон модель 925",
          "all/2022/основной/Телефон модель 920",
          "all/2023/ТД Можайск/Телефон модель 925",
          "all/2022/ТД Балашиха/Телефон модель 925",
          "all/2023/ТД Дмитров/Телефон модель 925",
          "all/2022/ТД Конаково/Телефон модель 490",
          "all/2022/ТД Истра/Телефон модель 925",
          "all/2023/ТД Истра/Телефон модель 925",
          "all/2022/ТД Коломна/Телефон модель 925",
          "all/2023/ТД Коломна/Телефон модель 925",
          "all/2022/ТД Завидово/Телефон модель 925",
          "all/2022/ТД Коломна/Телефон модель 289",
          "all/2021/ТД Коломна/Телефон модель 289",
          "all/2023/ТД Истра/Телефон модель 289",
          "all/2022/ТД Истра/Телефон модель 289",
          "all/2022/ТД Завидово/Телефон модель 289",
          "all/2022/ТД Завидово/Телефон модель А199",
          "all/2023/ТД Дмитров/Телефон модель А199",
          "all/2022/ТД Дмитров/Телефон модель А199",
          "all/2022/ТД Балашиха/Телефон модель А199",
          "all/2022/основной/Телефон модель А 925",
          "all/2022/ТД Тверь/Телефон модель А 925",
          "all/2023/ТД Питер/Телефон модель А 925",
          "all/2021/ТД Завидово/Телефон модель А199",
          "all/2023/основной/Телефон модель А 925",
          "all/2021/ТД Конаково/Телефон модель 289",
          "all/2022/ТД Конаково/Телефон модель 289",
          "all/2021/ТД Москва/Телефон модель 610",
          "all/2022/ТД Конаково/Телефон модель 610",
          "all/2021/ТД Конаково/Телефон модель 610",
          "all/2022/ТД Коломна/Телефон модель 610",
          "all/2021/ТД Коломна/Телефон модель 610",
          "all/2021/ТД Завидово/Телефон модель 610",
          "all/2022/основной/Телефон модель 490",
          "all/2023/ТД Требовое/Телефон модель 490",
          "all/2022/ТД Требовое/Телефон модель 490",
          "all/2022/ТД Тверь/Телефон модель 490",
          "all/2023/ТД Питер/Телефон модель 490",
          "all/2022/ТД Питер/Телефон модель 490",
          "all/2023/ТД Новгород/Телефон модель 490",
          "all/2022/ТД Новгород/Телефон модель 490",
          "all/2023/ТД Коломна/Телефон модель 289",
          "all/2021/ТД Москва/Телефон модель 289",
          "all/2022/ТД Москва/Телефон модель 289",
          "all/2022/ТД Новгород/Телефон модель 289",
          "all/2023/ТД Новгород/Телефон модель 289",
          "all/2021/ТД Обнинск/Телефон модель 289",
          "all/2021/ТД Питер/Телефон модель 289",
          "all/2022/ТД Тверь/Телефон модель 610",
          "all/2021/ТД Тверь/Телефон модель 610",
          "all/2021/ТД Обнинск/Телефон модель 610",
          "all/2022/ТД Москва/Телефон модель 610",
          "all/2022/ТД Коломна/Телефон модель А199",
          "all/2022/ТД Новгород/Телефон модель А199",
          "all/2021/ТД Новгород/Телефон модель А199",
          "all/2022/ТД Москва/Телефон модель А199",
          "all/2021/ТД Москва/Телефон модель А199",
          "all/2022/ТД Можайск/Телефон модель А199",
          "all/2022/ТД Конаково/Телефон модель А199",
          "all/2022/ТД Требовое/Телефон модель 610",
          "all/2022/ТД Истра/Телефон модель А199",
          "all/2023/ТД Истра/Телефон модель А199",
          "all/2021/ТД Коломна/Телефон модель А199",
          "all/2023/ТД Коломна/Телефон модель А199",
          "all/2023/ТД Новгород/Телефон модель А199",
          "all/2021/ТД Завидово/Телефон модель 615",
          "all/2021/ТД Коломна/Телефон модель 615",
          "all/2022/ТД Тверь/Телефон модель 289",
          "all/2021/ТД Тверь/Телефон модель 289",
          "all/2023/ТД Питер/Телефон модель 289",
          "all/2022/ТД Питер/Телефон модель 289",
          "all/2021/ТД Зарайск/Телефон модель 615",
          "all/2022/ТД Требовое/Телефон модель 289",
          "all/2022/ТД Дмитров/Телефон модель 715",
          "all/2022/ТД Балашиха/Телефон модель 715",
          "all/2023/ТД Требовое/Телефон модель 289",
          "all/2022/ТД Требовое/Телефон модель 615",
          "all/2021/ТД Тверь/Телефон модель 615",
          "all/2021/ТД Обнинск/Телефон модель 615",
          "all/2022/ТД Москва/Телефон модель 615",
          "all/2021/ТД Москва/Телефон модель 615",
          "all/2022/ТД Конаково/Телефон модель 615",
          "all/2021/ТД Конаково/Телефон модель 615",
          "all/2022/ТД Коломна/Телефон модель 615",
          "all/2023/основной/Телефон модель 615",
          "all/2023/ТД Тверь/Телефон модель А199",
          "all/2022/ТД Тверь/Телефон модель А199",
          "all/2021/ТД Тверь/Телефон модель А199",
          "all/2023/ТД Питер/Телефон модель А199",
          "all/2022/ТД Питер/Телефон модель А199",
          "all/2021/ТД Питер/Телефон модель А199",
          "all/2022/ТД Требовое/Телефон модель А199",
          "all/2021/ТД Москва/Телефон модель 715",
          "all/2023/ТД Новгород/Телефон модель 715",
          "all/2022/ТД Новгород/Телефон модель 715",
          "all/2021/ТД Новгород/Телефон модель 715",
          "all/2022/ТД Москва/Телефон модель 715",
          "all/2022/ТД Коломна/Телефон модель 715",
          "all/2021/ТД Коломна/Телефон модель 715",
          "all/2023/ТД Истра/Телефон модель 715",
          "all/2022/ТД Истра/Телефон модель 715",
          "all/2022/ТД Завидово/Телефон модель 715",
          "all/2021/ТД Завидово/Телефон модель 715",
          "all/2023/ТД Дмитров/Телефон модель 715",
          "all/2022/основной/Телефон модель А199",
          "all/2021/ТД Губари/товар прочий",
          "all/2022/ТД Балашиха",
          "all/2023/ТД Балашиха",
          "all/2021/ТД Губари",
          "all/2022/ТД Дмитров",
          "all/2023/ТД Дмитров",
          "all/2021/ТД Завидово",
          "all/2022/ТД Завидово",
          "all/2021/ТД Зарайск",
          "all/2022/ТД Истра",
          "all/2023/ТД Истра",
          "all/2021/ТД Коломна",
          "all/2022/ТД Коломна",
          "all/2023/ТД Коломна",
          "all/2021/ТД Конаково",
          "all/2022/ТД Конаково",
          "all/2023/ТД Конаково",
          "all/2022/ТД Можайск",
          "all/2023/ТД Можайск",
          "all/2021/ТД Москва",
          "all/2022/ТД Москва",
          "all/2023/ТД Москва",
          "all/2022/ТД Нара",
          "all/2021/ТД Новгород",
          "all/2022/ТД Новгород",
          "all/2023/ТД Новгород",
          "all/2021/ТД Обнинск",
          "all/2023/ТД Обнинск",
          "all/2021/ТД Питер",
          "all/2022/ТД Питер",
          "all/2023/ТД Питер",
          "all/2021/ТД Тверь",
          "all/2022/ТД Тверь",
          "all/2023/ТД Тверь",
          "all/2021/ТД Требовое",
          "all/2022/ТД Требовое",
          "all/2023/ТД Требовое",
          "all/2022/основной",
          "all/2023/основной",
          "all/2021",
          "all/2022",
          "all/2023",
          "all"
         ],
         "labels": [
          "Телефон модель 320",
          "Телефон модель 715",
          "Телефон модель 715",
          "Телефон модель 715",
          "Телефон модель 320",
          "Телефон модель 320",
          "Телефон модель 320",
          "Телефон модель 320",
          "Телефон модель 320",
          "Телефон модель 320",
          "Телефон модель 320",
          "Телефон модель 715",
          "Телефон модель 289",
          "Телефон модель 715",
          "Гаджет 199",
          "Телефон модель 320",
          "Телефон модель 320",
          "Телефон модель 320",
          "Телефон модель 320",
          "Телефон модель 320",
          "Телефон модель 320",
          "Телефон модель 320",
          "Телефон модель 385",
          "Телефон модель 720",
          "Телефон модель 720",
          "Телефон модель 720",
          "Телефон модель 720",
          "Телефон модель 720",
          "Телефон модель 720",
          "Телефон модель 720",
          "Телефон модель 715",
          "Телефон модель 720",
          "Телефон модель 320",
          "Гаджет 289",
          "Гаджет 289",
          "Гаджет 199",
          "Гаджет 289",
          "Гаджет 289",
          "Гаджет 289",
          "Телефон модель 385",
          "Телефон модель 385",
          "Телефон модель 385",
          "Гаджет 390 С",
          "Телефон модель 385",
          "Телефон модель 389",
          "Телефон модель 390",
          "Телефон модель 390",
          "Телефон модель 390",
          "Телефон модель 390",
          "Гаджет 199",
          "Гаджет 199",
          "Гаджет 199",
          "Телефон модель 385",
          "Гаджет 390 С",
          "Гаджет 199",
          "Гаджет 420",
          "Гаджет 420",
          "Гаджет 420",
          "Гаджет 420",
          "Телефон модель 820",
          "Телефон модель 820",
          "Телефон модель 390",
          "Телефон модель 390",
          "Телефон модель 390",
          "Телефон модель 390",
          "Телефон модель 390",
          "Телефон модель 390",
          "Телефон модель 390",
          "Телефон модель 820",
          "Телефон модель 390",
          "Телефон модель 820",
          "Телефон модель 820",
          "Телефон модель 820",
          "Телефон модель 720",
          "Телефон модель 720",
          "Телефон модель 720",
          "Телефон модель 720",
          "Телефон модель 390",
          "Телефон модель 820",
          "Телефон модель 390",
          "Телефон модель 390",
          "Гаджет 820",
          "Телефон модель 390",
          "Гаджет 920",
          "Гаджет 920",
          "Гаджет 920",
          "Гаджет 820",
          "Телефон модель 395",
          "Телефон модель 395",
          "Телефон модель 390",
          "Телефон модель 390",
          "Телефон модель 390",
          "Телефон модель 390",
          "Телефон модель 390",
          "Телефон модель 390",
          "Телефон модель 390",
          "Телефон модель 390",
          "Телефон модель 390",
          "Гаджет 820",
          "Гаджет 820",
          "Телефон модель 390",
          "Гаджет 425",
          "Телефон модель 820",
          "Телефон модель 820",
          "Телефон модель 820",
          "Телефон модель 820",
          "Телефон модель 820",
          "Телефон модель 820",
          "Телефон модель 820",
          "Телефон модель 820",
          "Телефон модель 820",
          "Телефон модель 820",
          "Гаджет 420",
          "Гаджет 420",
          "Гаджет 820",
          "Гаджет 420",
          "Гаджет 425",
          "Гаджет 420",
          "Гаджет 925",
          "Телефон модель 820",
          "Телефон модель 820",
          "Телефон модель 420",
          "Телефон модель 420",
          "Телефон модель 420",
          "Гаджет 925",
          "Телефон модель 420",
          "Телефон модель 420",
          "Телефон модель 420",
          "Телефон модель 420",
          "Прочие",
          "Маркетинговые услуги.",
          "Гаджет 925",
          "Гаджет 920",
          "Гаджет 920",
          "Гаджет 920",
          "Гаджет 920",
          "Телефон модель 420",
          "Телефон модель 420",
          "Телефон модель 420",
          "Телефон модель 420",
          "Телефон модель 420",
          "Телефон модель 420",
          "Телефон модель 420",
          "Телефон модель 820",
          "Телефон модель 820",
          "Телефон модель 820",
          "Телефон модель 820",
          "Телефон модель 420",
          "Телефон модель 420",
          "Телефон модель 420",
          "Телефон модель 420",
          "Телефон модель 420",
          "Телефон модель 420",
          "Телефон модель 420",
          "Телефон модель 420",
          "Телефон модель 420",
          "Телефон модель 420",
          "Телефон модель 420",
          "Телефон модель 1",
          "Телефон модель 1",
          "Телефон модель 1",
          "Телефон модель 420",
          "Телефон модель 420",
          "Салфетка N420",
          "Салфетка N420",
          "Телефон модель 820",
          "Телефон модель 820",
          "Телефон модель 1",
          "Телефон модель 1",
          "Прочие",
          "Телефон модель 1",
          "Салфетка N240",
          "Салфетка N240",
          "Салфетка N395",
          "Салфетка N400",
          "Телефон модель 1",
          "Прочие",
          "Телефон модель 425",
          "Телефон модель 920",
          "Телефон модель 920",
          "Телефон модель 920",
          "Телефон модель 920",
          "Телефон модель 920",
          "Телефон модель 920",
          "Телефон модель 920",
          "Телефон модель 920",
          "Телефон модель 920",
          "Телефон модель 920",
          "Телефон модель 920",
          "Телефон модель 920",
          "Телефон модель 920",
          "Телефон модель 920",
          "Телефон модель 920",
          "Телефон модель 920",
          "Телефон модель 920",
          "Телефон модель 920",
          "Телефон модель 920",
          "Телефон модель 920",
          "Телефон модель 425",
          "Телефон модель 220",
          "Телефон модель 425",
          "Телефон модель 425",
          "Телефон модель 425",
          "Телефон модель 425",
          "Телефон модель 425",
          "Телефон модель 425",
          "Телефон модель 425",
          "Телефон модель 425",
          "Телефон модель 195",
          "Телефон модель 195",
          "Телефон модель 195",
          "Телефон модель 195",
          "Телефон модель 220",
          "Телефон модель 195",
          "Телефон модель 220",
          "Телефон модель 920",
          "Телефон модель 220",
          "Телефон модель 220",
          "Телефон модель 920",
          "Телефон модель 220",
          "Телефон модель 220",
          "Телефон модель 220",
          "Телефон модель 490",
          "Телефон модель 289",
          "Телефон модель 289",
          "Телефон модель 289",
          "Телефон модель 289",
          "Телефон модель 220",
          "Телефон модель 220",
          "Телефон модель 220",
          "Телефон модель 220",
          "Телефон модель 220",
          "Телефон модель 425",
          "Телефон модель 425",
          "Телефон модель 490",
          "Телефон модель 490",
          "Телефон модель 490",
          "Телефон модель 490",
          "Телефон модель 490",
          "Телефон модель 490",
          "Телефон модель 490",
          "Телефон модель 425",
          "Телефон модель 425",
          "Телефон модель 490",
          "Телефон модель 920",
          "Телефон модель 490",
          "Телефон модель А 925",
          "Телефон модель 925",
          "Телефон модель 925",
          "Телефон модель 925",
          "Телефон модель 925",
          "Телефон модель 925",
          "Телефон модель 925",
          "Телефон модель 925",
          "Телефон модель 925",
          "Телефон модель 925",
          "Телефон модель 925",
          "Телефон модель 920",
          "Телефон модель 925",
          "Телефон модель 925",
          "Телефон модель 925",
          "Телефон модель 490",
          "Телефон модель 925",
          "Телефон модель 925",
          "Телефон модель 925",
          "Телефон модель 925",
          "Телефон модель 925",
          "Телефон модель 289",
          "Телефон модель 289",
          "Телефон модель 289",
          "Телефон модель 289",
          "Телефон модель 289",
          "Телефон модель А199",
          "Телефон модель А199",
          "Телефон модель А199",
          "Телефон модель А199",
          "Телефон модель А 925",
          "Телефон модель А 925",
          "Телефон модель А 925",
          "Телефон модель А199",
          "Телефон модель А 925",
          "Телефон модель 289",
          "Телефон модель 289",
          "Телефон модель 610",
          "Телефон модель 610",
          "Телефон модель 610",
          "Телефон модель 610",
          "Телефон модель 610",
          "Телефон модель 610",
          "Телефон модель 490",
          "Телефон модель 490",
          "Телефон модель 490",
          "Телефон модель 490",
          "Телефон модель 490",
          "Телефон модель 490",
          "Телефон модель 490",
          "Телефон модель 490",
          "Телефон модель 289",
          "Телефон модель 289",
          "Телефон модель 289",
          "Телефон модель 289",
          "Телефон модель 289",
          "Телефон модель 289",
          "Телефон модель 289",
          "Телефон модель 610",
          "Телефон модель 610",
          "Телефон модель 610",
          "Телефон модель 610",
          "Телефон модель А199",
          "Телефон модель А199",
          "Телефон модель А199",
          "Телефон модель А199",
          "Телефон модель А199",
          "Телефон модель А199",
          "Телефон модель А199",
          "Телефон модель 610",
          "Телефон модель А199",
          "Телефон модель А199",
          "Телефон модель А199",
          "Телефон модель А199",
          "Телефон модель А199",
          "Телефон модель 615",
          "Телефон модель 615",
          "Телефон модель 289",
          "Телефон модель 289",
          "Телефон модель 289",
          "Телефон модель 289",
          "Телефон модель 615",
          "Телефон модель 289",
          "Телефон модель 715",
          "Телефон модель 715",
          "Телефон модель 289",
          "Телефон модель 615",
          "Телефон модель 615",
          "Телефон модель 615",
          "Телефон модель 615",
          "Телефон модель 615",
          "Телефон модель 615",
          "Телефон модель 615",
          "Телефон модель 615",
          "Телефон модель 615",
          "Телефон модель А199",
          "Телефон модель А199",
          "Телефон модель А199",
          "Телефон модель А199",
          "Телефон модель А199",
          "Телефон модель А199",
          "Телефон модель А199",
          "Телефон модель 715",
          "Телефон модель 715",
          "Телефон модель 715",
          "Телефон модель 715",
          "Телефон модель 715",
          "Телефон модель 715",
          "Телефон модель 715",
          "Телефон модель 715",
          "Телефон модель 715",
          "Телефон модель 715",
          "Телефон модель 715",
          "Телефон модель 715",
          "Телефон модель А199",
          "товар прочий",
          "ТД Балашиха",
          "ТД Балашиха",
          "ТД Губари",
          "ТД Дмитров",
          "ТД Дмитров",
          "ТД Завидово",
          "ТД Завидово",
          "ТД Зарайск",
          "ТД Истра",
          "ТД Истра",
          "ТД Коломна",
          "ТД Коломна",
          "ТД Коломна",
          "ТД Конаково",
          "ТД Конаково",
          "ТД Конаково",
          "ТД Можайск",
          "ТД Можайск",
          "ТД Москва",
          "ТД Москва",
          "ТД Москва",
          "ТД Нара",
          "ТД Новгород",
          "ТД Новгород",
          "ТД Новгород",
          "ТД Обнинск",
          "ТД Обнинск",
          "ТД Питер",
          "ТД Питер",
          "ТД Питер",
          "ТД Тверь",
          "ТД Тверь",
          "ТД Тверь",
          "ТД Требовое",
          "ТД Требовое",
          "ТД Требовое",
          "основной",
          "основной",
          "2021",
          "2022",
          "2023",
          "all"
         ],
         "marker": {
          "colors": [
           "#636efa",
           "#EF553B",
           "#00cc96",
           "#00cc96",
           "#ab63fa",
           "#FFA15A",
           "#19d3f3",
           "#19d3f3",
           "#FF6692",
           "#B6E880",
           "#FF97FF",
           "#EF553B",
           "#FECB52",
           "#EF553B",
           "#636efa",
           "#00cc96",
           "#EF553B",
           "#EF553B",
           "#EF553B",
           "#00cc96",
           "#00cc96",
           "#00cc96",
           "#636efa",
           "#EF553B",
           "#00cc96",
           "#EF553B",
           "#ab63fa",
           "#19d3f3",
           "#19d3f3",
           "#FF97FF",
           "#00cc96",
           "#EF553B",
           "#00cc96",
           "#EF553B",
           "#00cc96",
           "#FECB52",
           "#ab63fa",
           "#ab63fa",
           "#FECB52",
           "#EF553B",
           "#636efa",
           "#ab63fa",
           "#00cc96",
           "#00cc96",
           "#ab63fa",
           "#636efa",
           "#FFA15A",
           "#FFA15A",
           "#FF97FF",
           "#ab63fa",
           "#EF553B",
           "#00cc96",
           "#FFA15A",
           "#EF553B",
           "#ab63fa",
           "#EF553B",
           "#EF553B",
           "#ab63fa",
           "#00cc96",
           "#B6E880",
           "#FF97FF",
           "#FF6692",
           "#19d3f3",
           "#19d3f3",
           "#19d3f3",
           "#FFA15A",
           "#ab63fa",
           "#00cc96",
           "#FF6692",
           "#00cc96",
           "#FF97FF",
           "#FFA15A",
           "#636efa",
           "#FECB52",
           "#FECB52",
           "#ab63fa",
           "#ab63fa",
           "#ab63fa",
           "#FF6692",
           "#FF6692",
           "#EF553B",
           "#ab63fa",
           "#00cc96",
           "#EF553B",
           "#EF553B",
           "#00cc96",
           "#ab63fa",
           "#EF553B",
           "#00cc96",
           "#FECB52",
           "#FECB52",
           "#ab63fa",
           "#00cc96",
           "#EF553B",
           "#EF553B",
           "#ab63fa",
           "#00cc96",
           "#00cc96",
           "#ab63fa",
           "#EF553B",
           "#ab63fa",
           "#ab63fa",
           "#EF553B",
           "#EF553B",
           "#ab63fa",
           "#ab63fa",
           "#636efa",
           "#FFA15A",
           "#FFA15A",
           "#19d3f3",
           "#19d3f3",
           "#19d3f3",
           "#ab63fa",
           "#ab63fa",
           "#EF553B",
           "#FECB52",
           "#ab63fa",
           "#FECB52",
           "#636efa",
           "#EF553B",
           "#EF553B",
           "#19d3f3",
           "#19d3f3",
           "#FF6692",
           "#00cc96",
           "#636efa",
           "#FFA15A",
           "#636efa",
           "#FF97FF",
           "#FFA15A",
           "#FFA15A",
           "#EF553B",
           "#ab63fa",
           "#ab63fa",
           "#FECB52",
           "#FECB52",
           "#FFA15A",
           "#FF6692",
           "#19d3f3",
           "#FFA15A",
           "#FFA15A",
           "#636efa",
           "#ab63fa",
           "#00cc96",
           "#ab63fa",
           "#ab63fa",
           "#00cc96",
           "#00cc96",
           "#00cc96",
           "#00cc96",
           "#EF553B",
           "#EF553B",
           "#EF553B",
           "#00cc96",
           "#00cc96",
           "#ab63fa",
           "#ab63fa",
           "#FECB52",
           "#19d3f3",
           "#FF97FF",
           "#FF97FF",
           "#00cc96",
           "#ab63fa",
           "#EF553B",
           "#00cc96",
           "#ab63fa",
           "#FECB52",
           "#00cc96",
           "#00cc96",
           "#FF6692",
           "#ab63fa",
           "#00cc96",
           "#EF553B",
           "#00cc96",
           "#EF553B",
           "#ab63fa",
           "#FF6692",
           "#636efa",
           "#EF553B",
           "#EF553B",
           "#EF553B",
           "#00cc96",
           "#19d3f3",
           "#ab63fa",
           "#FFA15A",
           "#FFA15A",
           "#19d3f3",
           "#636efa",
           "#FFA15A",
           "#FFA15A",
           "#FF97FF",
           "#FF97FF",
           "#B6E880",
           "#FF6692",
           "#FF6692",
           "#19d3f3",
           "#ab63fa",
           "#00cc96",
           "#19d3f3",
           "#19d3f3",
           "#00cc96",
           "#00cc96",
           "#00cc96",
           "#ab63fa",
           "#FFA15A",
           "#19d3f3",
           "#FF97FF",
           "#19d3f3",
           "#FFA15A",
           "#ab63fa",
           "#EF553B",
           "#00cc96",
           "#FF97FF",
           "#636efa",
           "#00cc96",
           "#00cc96",
           "#ab63fa",
           "#19d3f3",
           "#00cc96",
           "#00cc96",
           "#ab63fa",
           "#FFA15A",
           "#636efa",
           "#FF97FF",
           "#FFA15A",
           "#FFA15A",
           "#636efa",
           "#ab63fa",
           "#ab63fa",
           "#00cc96",
           "#00cc96",
           "#00cc96",
           "#00cc96",
           "#ab63fa",
           "#19d3f3",
           "#19d3f3",
           "#FF6692",
           "#FF6692",
           "#FF97FF",
           "#FFA15A",
           "#FFA15A",
           "#00cc96",
           "#FECB52",
           "#636efa",
           "#ab63fa",
           "#ab63fa",
           "#EF553B",
           "#FECB52",
           "#ab63fa",
           "#00cc96",
           "#EF553B",
           "#EF553B",
           "#00cc96",
           "#19d3f3",
           "#ab63fa",
           "#ab63fa",
           "#636efa",
           "#FECB52",
           "#636efa",
           "#636efa",
           "#FFA15A",
           "#FFA15A",
           "#FF6692",
           "#FF6692",
           "#19d3f3",
           "#19d3f3",
           "#FF97FF",
           "#19d3f3",
           "#19d3f3",
           "#FF6692",
           "#FF6692",
           "#FF97FF",
           "#FF97FF",
           "#FFA15A",
           "#FFA15A",
           "#636efa",
           "#FECB52",
           "#00cc96",
           "#EF553B",
           "#FF97FF",
           "#FECB52",
           "#FFA15A",
           "#FFA15A",
           "#ab63fa",
           "#FFA15A",
           "#FFA15A",
           "#19d3f3",
           "#19d3f3",
           "#FF97FF",
           "#FECB52",
           "#ab63fa",
           "#ab63fa",
           "#00cc96",
           "#EF553B",
           "#EF553B",
           "#00cc96",
           "#00cc96",
           "#19d3f3",
           "#ab63fa",
           "#ab63fa",
           "#00cc96",
           "#00cc96",
           "#EF553B",
           "#EF553B",
           "#00cc96",
           "#00cc96",
           "#EF553B",
           "#ab63fa",
           "#19d3f3",
           "#00cc96",
           "#00cc96",
           "#ab63fa",
           "#ab63fa",
           "#636efa",
           "#FFA15A",
           "#ab63fa",
           "#FF6692",
           "#FF6692",
           "#19d3f3",
           "#19d3f3",
           "#00cc96",
           "#FF97FF",
           "#19d3f3",
           "#00cc96",
           "#00cc96",
           "#EF553B",
           "#EF553B",
           "#B6E880",
           "#ab63fa",
           "#FFA15A",
           "#636efa",
           "#ab63fa",
           "#ab63fa",
           "#00cc96",
           "#EF553B",
           "#ab63fa",
           "#ab63fa",
           "#FFA15A",
           "#FFA15A",
           "#19d3f3",
           "#FECB52",
           "#00cc96",
           "#00cc96",
           "#00cc96",
           "#EF553B",
           "#EF553B",
           "#EF553B",
           "#ab63fa",
           "#ab63fa",
           "#00cc96",
           "#00cc96",
           "#00cc96",
           "#ab63fa",
           "#19d3f3",
           "#19d3f3",
           "#FF6692",
           "#FF6692",
           "#FF97FF",
           "#FF97FF",
           "#FFA15A",
           "#FECB52",
           "#FF6692",
           "#636efa",
           "#636efa",
           "#FF6692",
           "#FFA15A",
           "#FFA15A",
           "#FF97FF",
           "#FF97FF",
           "#B6E880",
           "#FF6692",
           "#FF6692",
           "#19d3f3",
           "#19d3f3",
           "#19d3f3",
           "#FFA15A",
           "#FFA15A",
           "#FFA15A",
           "#636efa",
           "#636efa",
           "#ab63fa",
           "#ab63fa",
           "#ab63fa",
           "#19d3f3",
           "#00cc96",
           "#00cc96",
           "#00cc96",
           "#EF553B",
           "#EF553B",
           "#EF553B",
           "#EF553B",
           "#EF553B",
           "#00cc96",
           "#00cc96",
           "#00cc96",
           "#ab63fa",
           "#ab63fa",
           "#ab63fa",
           "#FECB52",
           "#FECB52",
           "#B6E880",
           "#B6E880",
           "#B6E880",
           "#B6E880"
          ]
         },
         "name": "",
         "parents": [
          "all/2023/ТД Балашиха",
          "all/2023/ТД Питер",
          "all/2021/ТД Тверь",
          "all/2022/ТД Тверь",
          "all/2021/ТД Москва",
          "all/2021/ТД Конаково",
          "all/2023/ТД Коломна",
          "all/2021/ТД Коломна",
          "all/2023/ТД Истра",
          "all/2021/ТД Зарайск",
          "all/2021/ТД Завидово",
          "all/2022/ТД Питер",
          "all/2022/основной",
          "all/2021/ТД Питер",
          "all/2023/ТД Можайск",
          "all/2021/ТД Тверь",
          "all/2022/ТД Питер",
          "all/2021/ТД Питер",
          "all/2021/ТД Обнинск",
          "all/2023/ТД Новгород",
          "all/2022/ТД Новгород",
          "all/2021/ТД Новгород",
          "all/2023/ТД Балашиха",
          "all/2022/ТД Питер",
          "all/2021/ТД Тверь",
          "all/2021/ТД Обнинск",
          "all/2021/ТД Москва",
          "all/2022/ТД Коломна",
          "all/2021/ТД Коломна",
          "all/2021/ТД Завидово",
          "all/2023/ТД Тверь",
          "all/2021/ТД Питер",
          "all/2023/ТД Тверь",
          "all/2023/ТД Питер",
          "all/2023/ТД Новгород",
          "all/2023/основной",
          "all/2022/ТД Требовое",
          "all/2023/ТД Требовое",
          "all/2023/основной",
          "all/2023/ТД Обнинск",
          "all/2023/ТД Можайск",
          "all/2023/ТД Москва",
          "all/2023/ТД Новгород",
          "all/2023/ТД Тверь",
          "all/2021/ТД Москва",
          "all/2022/ТД Балашиха",
          "all/2022/ТД Дмитров",
          "all/2023/ТД Дмитров",
          "all/2022/ТД Завидово",
          "all/2022/ТД Требовое",
          "all/2023/ТД Питер",
          "all/2023/ТД Новгород",
          "all/2023/ТД Конаково",
          "all/2023/ТД Питер",
          "all/2023/ТД Требовое",
          "all/2022/ТД Питер",
          "all/2023/ТД Питер",
          "all/2021/ТД Требовое",
          "all/2023/ТД Новгород",
          "all/2021/ТД Зарайск",
          "all/2022/ТД Завидово",
          "all/2022/ТД Истра",
          "all/2021/ТД Коломна",
          "all/2022/ТД Коломна",
          "all/2023/ТД Коломна",
          "all/2022/ТД Конаково",
          "all/2021/ТД Москва",
          "all/2021/ТД Новгород",
          "all/2022/ТД Истра",
          "all/2022/ТД Новгород",
          "all/2021/ТД Завидово",
          "all/2022/ТД Дмитров",
          "all/2022/ТД Балашиха",
          "all/2023/основной",
          "all/2022/основной",
          "all/2023/ТД Требовое",
          "all/2022/ТД Требовое",
          "all/2022/ТД Москва",
          "all/2023/ТД Истра",
          "all/2023/ТД Истра",
          "all/2023/ТД Питер",
          "all/2022/ТД Требовое",
          "all/2023/ТД Тверь",
          "all/2023/ТД Питер",
          "all/2022/ТД Питер",
          "all/2023/ТД Новгород",
          "all/2023/ТД Требовое",
          "all/2023/ТД Питер",
          "all/2023/ТД Новгород",
          "all/2023/основной",
          "all/2022/основной",
          "all/2023/ТД Требовое",
          "all/2023/ТД Новгород",
          "all/2021/ТД Питер",
          "all/2022/ТД Питер",
          "all/2022/ТД Требовое",
          "all/2021/ТД Тверь",
          "all/2022/ТД Тверь",
          "all/2021/ТД Требовое",
          "all/2023/ТД Питер",
          "all/2021/ТД Требовое",
          "all/2023/ТД Требовое",
          "all/2021/ТД Питер",
          "all/2021/ТД Обнинск",
          "all/2022/ТД Москва",
          "all/2021/ТД Москва",
          "all/2022/ТД Можайск",
          "all/2022/ТД Конаково",
          "all/2021/ТД Конаково",
          "all/2023/ТД Коломна",
          "all/2022/ТД Коломна",
          "all/2021/ТД Коломна",
          "all/2022/ТД Требовое",
          "all/2023/ТД Требовое",
          "all/2022/ТД Питер",
          "all/2022/основной",
          "all/2022/ТД Требовое",
          "all/2023/основной",
          "all/2023/ТД Можайск",
          "all/2023/ТД Питер",
          "all/2022/ТД Питер",
          "all/2022/ТД Коломна",
          "all/2021/ТД Коломна",
          "all/2023/ТД Истра",
          "all/2023/ТД Новгород",
          "all/2023/ТД Балашиха",
          "all/2022/ТД Дмитров",
          "all/2022/ТД Балашиха",
          "all/2022/ТД Завидово",
          "all/2023/ТД Дмитров",
          "all/2022/ТД Дмитров",
          "all/2023/ТД Питер",
          "all/2022/ТД Требовое",
          "all/2023/ТД Требовое",
          "all/2022/основной",
          "all/2023/основной",
          "all/2023/ТД Дмитров",
          "all/2022/ТД Истра",
          "all/2023/ТД Коломна",
          "all/2021/ТД Конаково",
          "all/2022/ТД Конаково",
          "all/2022/ТД Можайск",
          "all/2021/ТД Москва",
          "all/2021/ТД Тверь",
          "all/2021/ТД Требовое",
          "all/2022/ТД Требовое",
          "all/2022/ТД Тверь",
          "all/2021/ТД Тверь",
          "all/2022/ТД Новгород",
          "all/2023/ТД Новгород",
          "all/2021/ТД Питер",
          "all/2022/ТД Питер",
          "all/2023/ТД Питер",
          "all/2022/ТД Тверь",
          "all/2023/ТД Тверь",
          "all/2021/ТД Требовое",
          "all/2022/ТД Требовое",
          "all/2022/основной",
          "all/2021/ТД Коломна",
          "all/2022/ТД Завидово",
          "all/2021/ТД Завидово",
          "all/2021/ТД Новгород",
          "all/2022/ТД Москва",
          "all/2023/ТД Питер",
          "all/2023/ТД Новгород",
          "all/2023/ТД Требовое",
          "all/2022/основной",
          "all/2021/ТД Тверь",
          "all/2022/ТД Тверь",
          "all/2022/ТД Истра",
          "all/2022/ТД Москва",
          "all/2023/ТД Новгород",
          "all/2023/ТД Питер",
          "all/2023/ТД Новгород",
          "all/2023/ТД Питер",
          "all/2021/ТД Москва",
          "all/2023/ТД Истра",
          "all/2023/ТД Балашиха",
          "all/2021/ТД Питер",
          "all/2022/ТД Питер",
          "all/2023/ТД Питер",
          "all/2023/ТД Новгород",
          "all/2022/ТД Коломна",
          "all/2021/ТД Москва",
          "all/2022/ТД Конаково",
          "all/2021/ТД Конаково",
          "all/2023/ТД Коломна",
          "all/2022/ТД Балашиха",
          "all/2022/ТД Дмитров",
          "all/2023/ТД Дмитров",
          "all/2021/ТД Завидово",
          "all/2022/ТД Завидово",
          "all/2021/ТД Зарайск",
          "all/2022/ТД Истра",
          "all/2023/ТД Истра",
          "all/2021/ТД Коломна",
          "all/2022/ТД Москва",
          "all/2021/ТД Тверь",
          "all/2023/ТД Коломна",
          "all/2021/ТД Коломна",
          "all/2021/ТД Тверь",
          "all/2022/ТД Новгород",
          "all/2021/ТД Новгород",
          "all/2021/ТД Москва",
          "all/2021/ТД Конаково",
          "all/2022/ТД Коломна",
          "all/2021/ТД Завидово",
          "all/2021/ТД Коломна",
          "all/2023/ТД Конаково",
          "all/2023/ТД Москва",
          "all/2023/ТД Обнинск",
          "all/2023/ТД Тверь",
          "all/2021/ТД Завидово",
          "all/2023/ТД Балашиха",
          "all/2021/ТД Новгород",
          "all/2022/ТД Тверь",
          "all/2022/ТД Москва",
          "all/2022/ТД Коломна",
          "all/2023/ТД Тверь",
          "all/2022/ТД Новгород",
          "all/2021/ТД Москва",
          "all/2021/ТД Конаково",
          "all/2022/ТД Балашиха",
          "all/2021/ТД Завидово",
          "all/2023/ТД Дмитров",
          "all/2022/ТД Дмитров",
          "all/2022/ТД Балашиха",
          "all/2022/ТД Требовое",
          "all/2021/ТД Требовое",
          "all/2022/ТД Тверь",
          "all/2021/ТД Тверь",
          "all/2023/ТД Новгород",
          "all/2022/ТД Тверь",
          "all/2022/ТД Требовое",
          "all/2023/ТД Коломна",
          "all/2022/ТД Коломна",
          "all/2023/ТД Истра",
          "all/2022/ТД Истра",
          "all/2022/ТД Завидово",
          "all/2023/ТД Дмитров",
          "all/2022/ТД Дмитров",
          "all/2023/ТД Тверь",
          "all/2022/основной",
          "all/2022/ТД Можайск",
          "all/2022/ТД Требовое",
          "all/2022/ТД Москва",
          "all/2022/ТД Питер",
          "all/2023/основной",
          "all/2022/ТД Требовое",
          "all/2022/ТД Тверь",
          "all/2023/ТД Питер",
          "all/2022/ТД Питер",
          "all/2023/ТД Новгород",
          "all/2022/ТД Нара",
          "all/2022/ТД Москва",
          "all/2023/ТД Требовое",
          "all/2022/ТД Можайск",
          "all/2022/основной",
          "all/2023/ТД Можайск",
          "all/2022/ТД Балашиха",
          "all/2023/ТД Дмитров",
          "all/2022/ТД Конаково",
          "all/2022/ТД Истра",
          "all/2023/ТД Истра",
          "all/2022/ТД Коломна",
          "all/2023/ТД Коломна",
          "all/2022/ТД Завидово",
          "all/2022/ТД Коломна",
          "all/2021/ТД Коломна",
          "all/2023/ТД Истра",
          "all/2022/ТД Истра",
          "all/2022/ТД Завидово",
          "all/2022/ТД Завидово",
          "all/2023/ТД Дмитров",
          "all/2022/ТД Дмитров",
          "all/2022/ТД Балашиха",
          "all/2022/основной",
          "all/2022/ТД Тверь",
          "all/2023/ТД Питер",
          "all/2021/ТД Завидово",
          "all/2023/основной",
          "all/2021/ТД Конаково",
          "all/2022/ТД Конаково",
          "all/2021/ТД Москва",
          "all/2022/ТД Конаково",
          "all/2021/ТД Конаково",
          "all/2022/ТД Коломна",
          "all/2021/ТД Коломна",
          "all/2021/ТД Завидово",
          "all/2022/основной",
          "all/2023/ТД Требовое",
          "all/2022/ТД Требовое",
          "all/2022/ТД Тверь",
          "all/2023/ТД Питер",
          "all/2022/ТД Питер",
          "all/2023/ТД Новгород",
          "all/2022/ТД Новгород",
          "all/2023/ТД Коломна",
          "all/2021/ТД Москва",
          "all/2022/ТД Москва",
          "all/2022/ТД Новгород",
          "all/2023/ТД Новгород",
          "all/2021/ТД Обнинск",
          "all/2021/ТД Питер",
          "all/2022/ТД Тверь",
          "all/2021/ТД Тверь",
          "all/2021/ТД Обнинск",
          "all/2022/ТД Москва",
          "all/2022/ТД Коломна",
          "all/2022/ТД Новгород",
          "all/2021/ТД Новгород",
          "all/2022/ТД Москва",
          "all/2021/ТД Москва",
          "all/2022/ТД Можайск",
          "all/2022/ТД Конаково",
          "all/2022/ТД Требовое",
          "all/2022/ТД Истра",
          "all/2023/ТД Истра",
          "all/2021/ТД Коломна",
          "all/2023/ТД Коломна",
          "all/2023/ТД Новгород",
          "all/2021/ТД Завидово",
          "all/2021/ТД Коломна",
          "all/2022/ТД Тверь",
          "all/2021/ТД Тверь",
          "all/2023/ТД Питер",
          "all/2022/ТД Питер",
          "all/2021/ТД Зарайск",
          "all/2022/ТД Требовое",
          "all/2022/ТД Дмитров",
          "all/2022/ТД Балашиха",
          "all/2023/ТД Требовое",
          "all/2022/ТД Требовое",
          "all/2021/ТД Тверь",
          "all/2021/ТД Обнинск",
          "all/2022/ТД Москва",
          "all/2021/ТД Москва",
          "all/2022/ТД Конаково",
          "all/2021/ТД Конаково",
          "all/2022/ТД Коломна",
          "all/2023/основной",
          "all/2023/ТД Тверь",
          "all/2022/ТД Тверь",
          "all/2021/ТД Тверь",
          "all/2023/ТД Питер",
          "all/2022/ТД Питер",
          "all/2021/ТД Питер",
          "all/2022/ТД Требовое",
          "all/2021/ТД Москва",
          "all/2023/ТД Новгород",
          "all/2022/ТД Новгород",
          "all/2021/ТД Новгород",
          "all/2022/ТД Москва",
          "all/2022/ТД Коломна",
          "all/2021/ТД Коломна",
          "all/2023/ТД Истра",
          "all/2022/ТД Истра",
          "all/2022/ТД Завидово",
          "all/2021/ТД Завидово",
          "all/2023/ТД Дмитров",
          "all/2022/основной",
          "all/2021/ТД Губари",
          "all/2022",
          "all/2023",
          "all/2021",
          "all/2022",
          "all/2023",
          "all/2021",
          "all/2022",
          "all/2021",
          "all/2022",
          "all/2023",
          "all/2021",
          "all/2022",
          "all/2023",
          "all/2021",
          "all/2022",
          "all/2023",
          "all/2022",
          "all/2023",
          "all/2021",
          "all/2022",
          "all/2023",
          "all/2022",
          "all/2021",
          "all/2022",
          "all/2023",
          "all/2021",
          "all/2023",
          "all/2021",
          "all/2022",
          "all/2023",
          "all/2021",
          "all/2022",
          "all/2023",
          "all/2021",
          "all/2022",
          "all/2023",
          "all/2022",
          "all/2023",
          "all",
          "all",
          "all",
          ""
         ],
         "type": "treemap",
         "values": [
          44.5,
          0.5416666666666679,
          5278.25,
          5150.841666666667,
          1447.3333333333333,
          115.55833333333334,
          430.7666666666667,
          1664.0000000000002,
          8.325000000000001,
          9.725,
          173.33333333333337,
          1902.4916666666668,
          12.675,
          531.4166666666667,
          9.166666666666668,
          3666.0000000000005,
          476.40833333333336,
          416.975,
          86.66666666666667,
          1687.3416666666667,
          240.57500000000002,
          847.3916666666667,
          71.09166666666667,
          183.425,
          1125,
          193.5,
          5617.525,
          59.50000000000001,
          400.00000000000006,
          172.33333333333334,
          150.58333333333334,
          651.525,
          535.8333333333334,
          45.075,
          74.55833333333334,
          0.008333333333333333,
          6.6000000000000005,
          5.775,
          3.3000000000000003,
          146.45000000000002,
          71.09166666666667,
          2978.741666666667,
          2215.875,
          213.275,
          9296.433333333332,
          99.44166666666666,
          75.575,
          76.01666666666668,
          53.75,
          0.6583333333333334,
          20.766666666666666,
          196.96666666666667,
          59.241666666666674,
          1794.6416666666667,
          0.8250000000000001,
          33.858333333333334,
          14.058333333333334,
          1.6666666666666667,
          17.4,
          14.291666666666666,
          108.94166666666666,
          1005.6750000000001,
          26.750000000000004,
          1537.8083333333334,
          673.6083333333333,
          89.225,
          7815.283333333334,
          72.49166666666667,
          453.6166666666667,
          1268.3000000000002,
          652.9250000000001,
          75.36666666666666,
          279.7416666666667,
          11.583333333333334,
          13.25,
          23.166666666666668,
          35.766666666666666,
          3738.325,
          74.325,
          404.98333333333335,
          2837.541666666667,
          13.333333333333334,
          454.1666666666667,
          30.21666666666667,
          32.541666666666664,
          15.733333333333334,
          4.166666666666667,
          1893.875,
          2051.4083333333333,
          23.166666666666668,
          114.93333333333334,
          92.66666666666667,
          4919.033333333334,
          309.15,
          7521.083333333334,
          721.275,
          445.83333333333337,
          1844.675,
          1.6666666666666667,
          15.825,
          42.25,
          2.0833333333333335,
          2702.25,
          374.85,
          2749.15,
          5963.625,
          69.33333333333334,
          438.725,
          1563.4750000000001,
          1138.7,
          746.4666666666667,
          3720.116666666667,
          8.333333333333334,
          2.0833333333333335,
          52.78333333333334,
          2.0833333333333335,
          2.0833333333333335,
          2.0833333333333335,
          11.25,
          783.9833333333333,
          1688.8416666666667,
          3738.866666666667,
          1162.6666666666667,
          1359.2083333333335,
          1.2916666666666667,
          134.66666666666666,
          174.97500000000002,
          198.88333333333333,
          221.43333333333334,
          259.2166666666667,
          28.85,
          4.816666666666666,
          75.83333333333334,
          6.25,
          6.25,
          6.25,
          431,
          2966.5583333333334,
          2714.3166666666666,
          151.38333333333333,
          387.98333333333335,
          53.57500000000001,
          11704.241666666669,
          6813.25,
          31.5,
          353.51666666666665,
          1644.5833333333335,
          1635,
          7259.366666666667,
          14959.85,
          7094.591666666667,
          13829.625,
          10832.550000000001,
          1491.2333333333333,
          210.41666666666669,
          29.98333333333333,
          272.06666666666666,
          24.125,
          340.6,
          13.716666666666669,
          133.63333333333333,
          1484.7416666666668,
          1727.9416666666666,
          6.683333333333334,
          61.78333333333333,
          33.166666666666664,
          46.59166666666667,
          1210,
          1282.375,
          241.15,
          1283.6416666666669,
          230.85,
          201.57500000000002,
          67.775,
          25.858333333333334,
          3093.3333333333335,
          115.49166666666667,
          145.33333333333334,
          517.725,
          3496.3,
          1540.8666666666668,
          2036.575,
          878.6333333333333,
          12647.241666666667,
          1129.0166666666667,
          133.33333333333334,
          1520.825,
          160.8,
          133.70833333333334,
          103.83333333333334,
          539.9166666666667,
          176.21666666666667,
          17.491666666666667,
          1281.1416666666667,
          800.0500000000001,
          1097.25,
          7914.8,
          6563.75,
          584.0666666666667,
          937,
          2871.7500000000005,
          641.6916666666667,
          3622.758333333333,
          1148.7,
          247.29166666666669,
          9.175,
          191.45000000000002,
          909.4083333333334,
          46.6,
          1951.7833333333333,
          230.43333333333334,
          279.625,
          1189,
          55.925000000000004,
          152.15,
          2703.2000000000003,
          3079.8333333333335,
          11.666666666666668,
          143.15833333333333,
          1052,
          1251.6666666666667,
          22.775,
          45.94166666666667,
          683.4166666666667,
          101.23333333333335,
          77.41666666666667,
          43,
          8.333333333333334,
          8.25,
          625,
          3716.416666666667,
          16.89166666666667,
          463.95000000000005,
          89.75833333333334,
          719.2583333333333,
          374.6666666666667,
          244.51666666666668,
          389.77500000000003,
          126.33333333333334,
          88.28333333333333,
          11.725000000000001,
          1544.1666666666667,
          0.13333333333333333,
          165.45,
          1076.45,
          2064.266666666667,
          154.925,
          24.916666666666668,
          268.025,
          843.75,
          1450.9916666666668,
          778.625,
          1017.6,
          187.5,
          2250,
          171.925,
          959.4166666666667,
          179.32500000000002,
          197.5,
          89.41666666666667,
          30.825000000000003,
          206.11666666666667,
          1465.2916666666667,
          616.3916666666667,
          604.175,
          1519.45,
          248.85000000000002,
          561.3083333333334,
          4019.416666666667,
          495.4666666666667,
          685.05,
          131.98333333333335,
          90.83333333333334,
          116.23333333333333,
          123.60000000000001,
          168.05,
          24.916666666666668,
          281.25,
          0.5666666666666668,
          189,
          21.183333333333337,
          347.5083333333334,
          250.73333333333335,
          2150,
          313.5416666666667,
          170.20833333333334,
          107.5,
          1795.2500000000002,
          666.5000000000001,
          58.175,
          44.75000000000001,
          150.65833333333333,
          1452.7333333333333,
          1493.8416666666667,
          1735.7416666666668,
          2323.575,
          1569.7416666666668,
          557.25,
          3475,
          2008.8500000000001,
          415.5833333333333,
          1684.2083333333335,
          115.83333333333334,
          1045.2333333333333,
          579.1666666666667,
          3870,
          258.00000000000006,
          1549.9166666666667,
          1068.4666666666667,
          1966.7416666666668,
          616.85,
          4339.575,
          9240,
          132.84166666666667,
          226.17500000000004,
          103.35,
          237.14166666666668,
          125.44166666666668,
          976.5,
          1194.3500000000001,
          3514.7833333333333,
          273.1416666666667,
          1236.4166666666667,
          1570.8333333333335,
          5560.000000000001,
          1008.6833333333334,
          1793.3916666666667,
          12.666666666666666,
          167.59166666666664,
          51.55833333333334,
          107.15000000000002,
          24.833333333333336,
          13.25,
          5111.900000000001,
          270,
          866.25,
          2884.1000000000004,
          281.25,
          287.9916666666667,
          90,
          13.25,
          667.5,
          2038.8333333333335,
          2100,
          2137.425,
          1914.6000000000001,
          224.33333333333334,
          350.7166666666667,
          2456.375,
          650.2083333333334,
          566.9666666666667,
          229.61666666666667,
          1694.0666666666668,
          14.083333333333329,
          1279.25,
          176.8666666666667,
          215.65,
          139.35000000000002,
          342.5,
          86.60833333333333,
          30.1,
          625,
          1192.4250000000002,
          451.51666666666665,
          625,
          752.7750000000001,
          1293.25,
          5207.150000000001,
          1311.4083333333333,
          54.175,
          8941.050000000001,
          4421.066666666667,
          19564.625,
          9802.316666666668,
          11052.591666666667,
          3039.525,
          3322.766666666667,
          105.84166666666667,
          1380.6166666666668,
          289.0083333333333,
          80190.85833333334,
          35266.61666666667,
          4930.525,
          187.5,
          7026,
          14980.966666666667,
          37743.708333333336,
          1298.8500000000001,
          376.8833333333333,
          13493.2,
          35594.64166666667,
          26140.383333333335,
          49967.15,
          21972.425000000003,
          4198.725,
          115.31666666666666,
          3717.6,
          411.6916666666667,
          512.5583333333334,
          105.74166666666667,
          180581.85,
          138935.6666666667,
          91520.93333333333,
          411038.45
         ]
        }
       ],
       "layout": {
        "legend": {
         "tracegroupgap": 0
        },
        "margin": {
         "t": 60
        },
        "template": {
         "data": {
          "bar": [
           {
            "error_x": {
             "color": "#2a3f5f"
            },
            "error_y": {
             "color": "#2a3f5f"
            },
            "marker": {
             "line": {
              "color": "#E5ECF6",
              "width": 0.5
             },
             "pattern": {
              "fillmode": "overlay",
              "size": 10,
              "solidity": 0.2
             }
            },
            "type": "bar"
           }
          ],
          "barpolar": [
           {
            "marker": {
             "line": {
              "color": "#E5ECF6",
              "width": 0.5
             },
             "pattern": {
              "fillmode": "overlay",
              "size": 10,
              "solidity": 0.2
             }
            },
            "type": "barpolar"
           }
          ],
          "carpet": [
           {
            "aaxis": {
             "endlinecolor": "#2a3f5f",
             "gridcolor": "white",
             "linecolor": "white",
             "minorgridcolor": "white",
             "startlinecolor": "#2a3f5f"
            },
            "baxis": {
             "endlinecolor": "#2a3f5f",
             "gridcolor": "white",
             "linecolor": "white",
             "minorgridcolor": "white",
             "startlinecolor": "#2a3f5f"
            },
            "type": "carpet"
           }
          ],
          "choropleth": [
           {
            "colorbar": {
             "outlinewidth": 0,
             "ticks": ""
            },
            "type": "choropleth"
           }
          ],
          "contour": [
           {
            "colorbar": {
             "outlinewidth": 0,
             "ticks": ""
            },
            "colorscale": [
             [
              0,
              "#0d0887"
             ],
             [
              0.1111111111111111,
              "#46039f"
             ],
             [
              0.2222222222222222,
              "#7201a8"
             ],
             [
              0.3333333333333333,
              "#9c179e"
             ],
             [
              0.4444444444444444,
              "#bd3786"
             ],
             [
              0.5555555555555556,
              "#d8576b"
             ],
             [
              0.6666666666666666,
              "#ed7953"
             ],
             [
              0.7777777777777778,
              "#fb9f3a"
             ],
             [
              0.8888888888888888,
              "#fdca26"
             ],
             [
              1,
              "#f0f921"
             ]
            ],
            "type": "contour"
           }
          ],
          "contourcarpet": [
           {
            "colorbar": {
             "outlinewidth": 0,
             "ticks": ""
            },
            "type": "contourcarpet"
           }
          ],
          "heatmap": [
           {
            "colorbar": {
             "outlinewidth": 0,
             "ticks": ""
            },
            "colorscale": [
             [
              0,
              "#0d0887"
             ],
             [
              0.1111111111111111,
              "#46039f"
             ],
             [
              0.2222222222222222,
              "#7201a8"
             ],
             [
              0.3333333333333333,
              "#9c179e"
             ],
             [
              0.4444444444444444,
              "#bd3786"
             ],
             [
              0.5555555555555556,
              "#d8576b"
             ],
             [
              0.6666666666666666,
              "#ed7953"
             ],
             [
              0.7777777777777778,
              "#fb9f3a"
             ],
             [
              0.8888888888888888,
              "#fdca26"
             ],
             [
              1,
              "#f0f921"
             ]
            ],
            "type": "heatmap"
           }
          ],
          "heatmapgl": [
           {
            "colorbar": {
             "outlinewidth": 0,
             "ticks": ""
            },
            "colorscale": [
             [
              0,
              "#0d0887"
             ],
             [
              0.1111111111111111,
              "#46039f"
             ],
             [
              0.2222222222222222,
              "#7201a8"
             ],
             [
              0.3333333333333333,
              "#9c179e"
             ],
             [
              0.4444444444444444,
              "#bd3786"
             ],
             [
              0.5555555555555556,
              "#d8576b"
             ],
             [
              0.6666666666666666,
              "#ed7953"
             ],
             [
              0.7777777777777778,
              "#fb9f3a"
             ],
             [
              0.8888888888888888,
              "#fdca26"
             ],
             [
              1,
              "#f0f921"
             ]
            ],
            "type": "heatmapgl"
           }
          ],
          "histogram": [
           {
            "marker": {
             "pattern": {
              "fillmode": "overlay",
              "size": 10,
              "solidity": 0.2
             }
            },
            "type": "histogram"
           }
          ],
          "histogram2d": [
           {
            "colorbar": {
             "outlinewidth": 0,
             "ticks": ""
            },
            "colorscale": [
             [
              0,
              "#0d0887"
             ],
             [
              0.1111111111111111,
              "#46039f"
             ],
             [
              0.2222222222222222,
              "#7201a8"
             ],
             [
              0.3333333333333333,
              "#9c179e"
             ],
             [
              0.4444444444444444,
              "#bd3786"
             ],
             [
              0.5555555555555556,
              "#d8576b"
             ],
             [
              0.6666666666666666,
              "#ed7953"
             ],
             [
              0.7777777777777778,
              "#fb9f3a"
             ],
             [
              0.8888888888888888,
              "#fdca26"
             ],
             [
              1,
              "#f0f921"
             ]
            ],
            "type": "histogram2d"
           }
          ],
          "histogram2dcontour": [
           {
            "colorbar": {
             "outlinewidth": 0,
             "ticks": ""
            },
            "colorscale": [
             [
              0,
              "#0d0887"
             ],
             [
              0.1111111111111111,
              "#46039f"
             ],
             [
              0.2222222222222222,
              "#7201a8"
             ],
             [
              0.3333333333333333,
              "#9c179e"
             ],
             [
              0.4444444444444444,
              "#bd3786"
             ],
             [
              0.5555555555555556,
              "#d8576b"
             ],
             [
              0.6666666666666666,
              "#ed7953"
             ],
             [
              0.7777777777777778,
              "#fb9f3a"
             ],
             [
              0.8888888888888888,
              "#fdca26"
             ],
             [
              1,
              "#f0f921"
             ]
            ],
            "type": "histogram2dcontour"
           }
          ],
          "mesh3d": [
           {
            "colorbar": {
             "outlinewidth": 0,
             "ticks": ""
            },
            "type": "mesh3d"
           }
          ],
          "parcoords": [
           {
            "line": {
             "colorbar": {
              "outlinewidth": 0,
              "ticks": ""
             }
            },
            "type": "parcoords"
           }
          ],
          "pie": [
           {
            "automargin": true,
            "type": "pie"
           }
          ],
          "scatter": [
           {
            "fillpattern": {
             "fillmode": "overlay",
             "size": 10,
             "solidity": 0.2
            },
            "type": "scatter"
           }
          ],
          "scatter3d": [
           {
            "line": {
             "colorbar": {
              "outlinewidth": 0,
              "ticks": ""
             }
            },
            "marker": {
             "colorbar": {
              "outlinewidth": 0,
              "ticks": ""
             }
            },
            "type": "scatter3d"
           }
          ],
          "scattercarpet": [
           {
            "marker": {
             "colorbar": {
              "outlinewidth": 0,
              "ticks": ""
             }
            },
            "type": "scattercarpet"
           }
          ],
          "scattergeo": [
           {
            "marker": {
             "colorbar": {
              "outlinewidth": 0,
              "ticks": ""
             }
            },
            "type": "scattergeo"
           }
          ],
          "scattergl": [
           {
            "marker": {
             "colorbar": {
              "outlinewidth": 0,
              "ticks": ""
             }
            },
            "type": "scattergl"
           }
          ],
          "scattermapbox": [
           {
            "marker": {
             "colorbar": {
              "outlinewidth": 0,
              "ticks": ""
             }
            },
            "type": "scattermapbox"
           }
          ],
          "scatterpolar": [
           {
            "marker": {
             "colorbar": {
              "outlinewidth": 0,
              "ticks": ""
             }
            },
            "type": "scatterpolar"
           }
          ],
          "scatterpolargl": [
           {
            "marker": {
             "colorbar": {
              "outlinewidth": 0,
              "ticks": ""
             }
            },
            "type": "scatterpolargl"
           }
          ],
          "scatterternary": [
           {
            "marker": {
             "colorbar": {
              "outlinewidth": 0,
              "ticks": ""
             }
            },
            "type": "scatterternary"
           }
          ],
          "surface": [
           {
            "colorbar": {
             "outlinewidth": 0,
             "ticks": ""
            },
            "colorscale": [
             [
              0,
              "#0d0887"
             ],
             [
              0.1111111111111111,
              "#46039f"
             ],
             [
              0.2222222222222222,
              "#7201a8"
             ],
             [
              0.3333333333333333,
              "#9c179e"
             ],
             [
              0.4444444444444444,
              "#bd3786"
             ],
             [
              0.5555555555555556,
              "#d8576b"
             ],
             [
              0.6666666666666666,
              "#ed7953"
             ],
             [
              0.7777777777777778,
              "#fb9f3a"
             ],
             [
              0.8888888888888888,
              "#fdca26"
             ],
             [
              1,
              "#f0f921"
             ]
            ],
            "type": "surface"
           }
          ],
          "table": [
           {
            "cells": {
             "fill": {
              "color": "#EBF0F8"
             },
             "line": {
              "color": "white"
             }
            },
            "header": {
             "fill": {
              "color": "#C8D4E3"
             },
             "line": {
              "color": "white"
             }
            },
            "type": "table"
           }
          ]
         },
         "layout": {
          "annotationdefaults": {
           "arrowcolor": "#2a3f5f",
           "arrowhead": 0,
           "arrowwidth": 1
          },
          "autotypenumbers": "strict",
          "coloraxis": {
           "colorbar": {
            "outlinewidth": 0,
            "ticks": ""
           }
          },
          "colorscale": {
           "diverging": [
            [
             0,
             "#8e0152"
            ],
            [
             0.1,
             "#c51b7d"
            ],
            [
             0.2,
             "#de77ae"
            ],
            [
             0.3,
             "#f1b6da"
            ],
            [
             0.4,
             "#fde0ef"
            ],
            [
             0.5,
             "#f7f7f7"
            ],
            [
             0.6,
             "#e6f5d0"
            ],
            [
             0.7,
             "#b8e186"
            ],
            [
             0.8,
             "#7fbc41"
            ],
            [
             0.9,
             "#4d9221"
            ],
            [
             1,
             "#276419"
            ]
           ],
           "sequential": [
            [
             0,
             "#0d0887"
            ],
            [
             0.1111111111111111,
             "#46039f"
            ],
            [
             0.2222222222222222,
             "#7201a8"
            ],
            [
             0.3333333333333333,
             "#9c179e"
            ],
            [
             0.4444444444444444,
             "#bd3786"
            ],
            [
             0.5555555555555556,
             "#d8576b"
            ],
            [
             0.6666666666666666,
             "#ed7953"
            ],
            [
             0.7777777777777778,
             "#fb9f3a"
            ],
            [
             0.8888888888888888,
             "#fdca26"
            ],
            [
             1,
             "#f0f921"
            ]
           ],
           "sequentialminus": [
            [
             0,
             "#0d0887"
            ],
            [
             0.1111111111111111,
             "#46039f"
            ],
            [
             0.2222222222222222,
             "#7201a8"
            ],
            [
             0.3333333333333333,
             "#9c179e"
            ],
            [
             0.4444444444444444,
             "#bd3786"
            ],
            [
             0.5555555555555556,
             "#d8576b"
            ],
            [
             0.6666666666666666,
             "#ed7953"
            ],
            [
             0.7777777777777778,
             "#fb9f3a"
            ],
            [
             0.8888888888888888,
             "#fdca26"
            ],
            [
             1,
             "#f0f921"
            ]
           ]
          },
          "colorway": [
           "#636efa",
           "#EF553B",
           "#00cc96",
           "#ab63fa",
           "#FFA15A",
           "#19d3f3",
           "#FF6692",
           "#B6E880",
           "#FF97FF",
           "#FECB52"
          ],
          "font": {
           "color": "#2a3f5f"
          },
          "geo": {
           "bgcolor": "white",
           "lakecolor": "white",
           "landcolor": "#E5ECF6",
           "showlakes": true,
           "showland": true,
           "subunitcolor": "white"
          },
          "hoverlabel": {
           "align": "left"
          },
          "hovermode": "closest",
          "mapbox": {
           "style": "light"
          },
          "paper_bgcolor": "white",
          "plot_bgcolor": "#E5ECF6",
          "polar": {
           "angularaxis": {
            "gridcolor": "white",
            "linecolor": "white",
            "ticks": ""
           },
           "bgcolor": "#E5ECF6",
           "radialaxis": {
            "gridcolor": "white",
            "linecolor": "white",
            "ticks": ""
           }
          },
          "scene": {
           "xaxis": {
            "backgroundcolor": "#E5ECF6",
            "gridcolor": "white",
            "gridwidth": 2,
            "linecolor": "white",
            "showbackground": true,
            "ticks": "",
            "zerolinecolor": "white"
           },
           "yaxis": {
            "backgroundcolor": "#E5ECF6",
            "gridcolor": "white",
            "gridwidth": 2,
            "linecolor": "white",
            "showbackground": true,
            "ticks": "",
            "zerolinecolor": "white"
           },
           "zaxis": {
            "backgroundcolor": "#E5ECF6",
            "gridcolor": "white",
            "gridwidth": 2,
            "linecolor": "white",
            "showbackground": true,
            "ticks": "",
            "zerolinecolor": "white"
           }
          },
          "shapedefaults": {
           "line": {
            "color": "#2a3f5f"
           }
          },
          "ternary": {
           "aaxis": {
            "gridcolor": "white",
            "linecolor": "white",
            "ticks": ""
           },
           "baxis": {
            "gridcolor": "white",
            "linecolor": "white",
            "ticks": ""
           },
           "bgcolor": "#E5ECF6",
           "caxis": {
            "gridcolor": "white",
            "linecolor": "white",
            "ticks": ""
           }
          },
          "title": {
           "x": 0.05
          },
          "xaxis": {
           "automargin": true,
           "gridcolor": "white",
           "linecolor": "white",
           "ticks": "",
           "title": {
            "standoff": 15
           },
           "zerolinecolor": "white",
           "zerolinewidth": 2
          },
          "yaxis": {
           "automargin": true,
           "gridcolor": "white",
           "linecolor": "white",
           "ticks": "",
           "title": {
            "standoff": 15
           },
           "zerolinecolor": "white",
           "zerolinewidth": 2
          }
         }
        }
       }
      }
     },
     "metadata": {},
     "output_type": "display_data"
    }
   ],
   "source": [
    "# fig = px.treemap(pt90_pn, path=[px.Constant('SKK3'), 'SKD1'], values='ДС', hover_data=['SKK3'])\n",
    "fig = px.treemap(pt90_pn, path=[px.Constant('all'), 'Год', 'SKD1', 'SKK3'], values='ДС', color='SKD1') #  ,hover_data=['SKK3']\n",
    "# fig = px.treemap(pt90_pn.query('Год==2022'), path=[px.Constant('all'), 'Год', 'SKD1', 'SKK3'], values='ДС', color='SKD1') #  ,hover_data=['SKK3']\n",
    "\n",
    "fig = px.treemap(pt90_pn, path=[px.Constant('all'), 'Год', 'SKD1', 'SKK3'], values='ДС', color='SKD1')\n",
    "\n",
    "fig.show()"
   ]
  },
  {
   "cell_type": "code",
   "execution_count": null,
   "metadata": {},
   "outputs": [],
   "source": []
  }
 ],
 "metadata": {
  "kernelspec": {
   "display_name": "Python 3",
   "language": "python",
   "name": "python3"
  },
  "language_info": {
   "codemirror_mode": {
    "name": "ipython",
    "version": 3
   },
   "file_extension": ".py",
   "mimetype": "text/x-python",
   "name": "python",
   "nbconvert_exporter": "python",
   "pygments_lexer": "ipython3",
   "version": "3.13.0"
  }
 },
 "nbformat": 4,
 "nbformat_minor": 2
}
